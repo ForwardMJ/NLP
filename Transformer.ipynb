{
 "cells": [
  {
   "cell_type": "code",
   "execution_count": 1,
   "id": "c410bd85-b632-4eb4-973f-548f2816ee97",
   "metadata": {},
   "outputs": [],
   "source": [
    "import numpy as np\n",
    "import pandas as pd\n",
    "import matplotlib.pyplot as plt\n",
    "plt.rcParams[\"font.sans-serif\"] = [\"Times New Roman\"]\n",
    "plt.rcParams[\"axes.unicode_minus\"] = False\n",
    "%matplotlib inline\n",
    "import tensorflow as tf\n",
    "import torch\n",
    "import torch.nn.functional as Func\n",
    "import torch.nn as nn"
   ]
  },
  {
   "cell_type": "markdown",
   "id": "ae2135c7-794e-48f4-8e60-55af89079d61",
   "metadata": {},
   "source": [
    "# 一、背景介绍"
   ]
  },
  {
   "cell_type": "markdown",
   "id": "eed5b34f-df6b-4a43-acdd-70abc24fd5e8",
   "metadata": {},
   "source": [
    "&emsp;&emsp;2018年10月，Google发出一篇论文《BERT: Pre-training of Deep Bidirectional Transformers for Language Understanding》, BERT模型横空出世, 并横扫NLP领域11项任务的最佳成绩，[点击下载论文](https://arxiv.org/pdf/1810.04805.pdf)。然而，在BERT中发挥重要作用的结构就是Transformer, 之后又相继出现XLNET，roBERT等模型击败了BERT，但是他们的核心没有变，仍然是：Transformer."
   ]
  },
  {
   "cell_type": "markdown",
   "id": "f2f85c7f-5826-45d7-b883-0339a9b74798",
   "metadata": {},
   "source": [
    "## 1.1 优势\n",
    "\n",
    "&emsp;&emsp;相比之前通知市场的LSTM和GRU，Transformer用于两个显著的优势:\n",
    "\n",
    "- Transformer可以利用分布式GPU进行并行训练，这可以大大提高模型的训练效率;\n",
    "- 在分析预测更长的文本时，捕获间隔较长的语义关联效果更好;"
   ]
  },
  {
   "cell_type": "markdown",
   "id": "d9d38665-0163-4ae4-888d-727bc3ccfcb0",
   "metadata": {},
   "source": [
    "<center><img src=\"images/优势.png\"></center>"
   ]
  },
  {
   "cell_type": "markdown",
   "id": "e58fd21c-003d-406d-b111-964b679b5e46",
   "metadata": {},
   "source": [
    "## 1.2 架构解析\n",
    "\n",
    "&emsp;&emsp;基于seq2seq架构的transformer模型可以完成NLP领域研究的典型任务，如机器翻译，文本生成等，同时又可以构建预训练语言模型，用于不同任务的迁移学习。声明：在接下来的架构分析中，我们将假设使用Transformer模型架构处理从一种语言文本到另一种语言文本的翻译工作。因此，很多命名方式遵循NLP中的规则，如Embedding层将称为文本嵌入层，Embedding层产生的张量称为词嵌入张量，它的最后一维称为词向量等。Transformer由输入部分、输出部分、编码器部分和解码器部分组成，总体架构如下所示:"
   ]
  },
  {
   "cell_type": "markdown",
   "id": "ece7e8fd-1316-4b37-930c-bc4a5fcc7f9a",
   "metadata": {},
   "source": [
    "<center><img src=\"images/架构.png\" style=\"zoom: 70%\"></center>"
   ]
  },
  {
   "cell_type": "markdown",
   "id": "5ba951a5-1679-4c0c-b9d8-59c61c97538c",
   "metadata": {},
   "source": [
    "# 二、逐一攻破"
   ]
  },
  {
   "cell_type": "markdown",
   "id": "ce66843a-9ba4-4e3f-b798-eb37b066db17",
   "metadata": {},
   "source": [
    "## 2.1 输入部分\n",
    "\n",
    "- 源文本嵌入层和位置编码器;\n",
    "- 目标文本嵌入层和位置编码器;\n",
    "\n",
    "<center><img src=\"images/输入.png\" style=\"zoom: 70%\"></center>"
   ]
  },
  {
   "cell_type": "markdown",
   "id": "18cfe272-4186-4be6-8e41-f3a7e78f8b63",
   "metadata": {},
   "source": [
    "### 2.1.1 自定义文本嵌入层\n",
    "\n",
    "- 作用: 无论是源文本嵌入还是目标文本嵌入，都是为了将文本中词汇的数字表示转变为向量表示，希望的在高维空间捕获词汇间的关系;"
   ]
  },
  {
   "cell_type": "code",
   "execution_count": 2,
   "id": "52f26823-e7aa-4f8f-9859-31386682e908",
   "metadata": {},
   "outputs": [],
   "source": [
    "# 预定义的网络层torch.nn工具开发者已经帮助我们开发好了一些常用的层，如卷积层、lstm层和embedding层，我们更多需要关注如何使用好这些轮子，而不是重复造轮子;\n",
    "import math\n",
    "from torch.autograd import Variable\n",
    "import torch.nn as nn"
   ]
  },
  {
   "cell_type": "code",
   "execution_count": 3,
   "id": "d6093dec-954b-4921-be67-661b0058d759",
   "metadata": {},
   "outputs": [
    {
     "name": "stdout",
     "output_type": "stream",
     "text": [
      "torch.Size([2, 4, 3])\n"
     ]
    },
    {
     "data": {
      "text/plain": [
       "tensor([[[-0.5409,  0.5733, -0.2060],\n",
       "         [-0.5199, -0.9096,  0.8297],\n",
       "         [ 0.7857, -1.4725,  0.8146],\n",
       "         [ 0.8693,  0.5682, -0.0063]],\n",
       "\n",
       "        [[ 0.7857, -1.4725,  0.8146],\n",
       "         [ 0.8485, -0.3264, -0.1791],\n",
       "         [-0.5199, -0.9096,  0.8297],\n",
       "         [-0.0732, -0.3762,  0.3397]]], grad_fn=<EmbeddingBackward>)"
      ]
     },
     "execution_count": 3,
     "metadata": {},
     "output_type": "execute_result"
    }
   ],
   "source": [
    "# 定义Embedding类来实现文本嵌入层，这里s说明代表两个一模一样的嵌入层，它们共享参数，该类继承自nn.Module，这样它就具备一些标准层的功能，这里我们也可以理解为一种模式;\n",
    "# 测试torch自带的embedding层 ---> Lookup Table\n",
    "embedding = nn.Embedding(num_embeddings=10, embedding_dim=3)  # num_embeddings表示文本中的词汇组成的词汇表中的最大idx,embedding_dim为每一个词向量的维度;\n",
    "input_ = torch.LongTensor([[1, 2, 4, 5], \n",
    "                           [4, 3, 2, 9]])\n",
    "res = embedding(input_)\n",
    "print(res.size())\n",
    "res"
   ]
  },
  {
   "cell_type": "markdown",
   "id": "2fcf56b5-d508-4526-b3a8-bed10e8dc3e2",
   "metadata": {},
   "source": [
    "<center><img src=\"images/输入架构.png\"></center>"
   ]
  },
  {
   "cell_type": "markdown",
   "id": "9aa5ddcf-b13f-4f53-ba0a-2e4e3f8473d7",
   "metadata": {},
   "source": [
    "- 原始数据维度为: (2, 4)表示batch=2，每一条序列的长度为4, 其中每一个数字映射一个词汇，当然一个词汇也可以找到一个idx;\n",
    "- embedding转换后维度为(2, 4, 3) -> 2表示batch, 其中input_中的每一元素都转换为一个长度为3的向量，不过这些数字的意义我们也不太清楚;"
   ]
  },
  {
   "cell_type": "code",
   "execution_count": 12,
   "id": "91d35158-abd6-4998-b3bb-8572109d85ce",
   "metadata": {},
   "outputs": [
    {
     "ename": "IndexError",
     "evalue": "index out of range in self",
     "output_type": "error",
     "traceback": [
      "\u001b[1;31m---------------------------------------------------------------------------\u001b[0m",
      "\u001b[1;31mIndexError\u001b[0m                                Traceback (most recent call last)",
      "\u001b[1;32m<ipython-input-12-f3936ec5632a>\u001b[0m in \u001b[0;36m<module>\u001b[1;34m\u001b[0m\n\u001b[0;32m      2\u001b[0m sample = torch.LongTensor([[6, 4, 2, 9], \n\u001b[0;32m      3\u001b[0m                            [10, 12, 8, 1]])  # 注意输入中的idx不能超过num_beddings设置的数值(本例为10);\n\u001b[1;32m----> 4\u001b[1;33m \u001b[0membedding2\u001b[0m\u001b[1;33m(\u001b[0m\u001b[0msample\u001b[0m\u001b[1;33m)\u001b[0m\u001b[1;33m\u001b[0m\u001b[1;33m\u001b[0m\u001b[0m\n\u001b[0m",
      "\u001b[1;32mE:\\Anaconda\\lib\\site-packages\\torch\\nn\\modules\\module.py\u001b[0m in \u001b[0;36m_call_impl\u001b[1;34m(self, *input, **kwargs)\u001b[0m\n\u001b[0;32m   1049\u001b[0m         if not (self._backward_hooks or self._forward_hooks or self._forward_pre_hooks or _global_backward_hooks\n\u001b[0;32m   1050\u001b[0m                 or _global_forward_hooks or _global_forward_pre_hooks):\n\u001b[1;32m-> 1051\u001b[1;33m             \u001b[1;32mreturn\u001b[0m \u001b[0mforward_call\u001b[0m\u001b[1;33m(\u001b[0m\u001b[1;33m*\u001b[0m\u001b[0minput\u001b[0m\u001b[1;33m,\u001b[0m \u001b[1;33m**\u001b[0m\u001b[0mkwargs\u001b[0m\u001b[1;33m)\u001b[0m\u001b[1;33m\u001b[0m\u001b[1;33m\u001b[0m\u001b[0m\n\u001b[0m\u001b[0;32m   1052\u001b[0m         \u001b[1;31m# Do not call functions when jit is used\u001b[0m\u001b[1;33m\u001b[0m\u001b[1;33m\u001b[0m\u001b[1;33m\u001b[0m\u001b[0m\n\u001b[0;32m   1053\u001b[0m         \u001b[0mfull_backward_hooks\u001b[0m\u001b[1;33m,\u001b[0m \u001b[0mnon_full_backward_hooks\u001b[0m \u001b[1;33m=\u001b[0m \u001b[1;33m[\u001b[0m\u001b[1;33m]\u001b[0m\u001b[1;33m,\u001b[0m \u001b[1;33m[\u001b[0m\u001b[1;33m]\u001b[0m\u001b[1;33m\u001b[0m\u001b[1;33m\u001b[0m\u001b[0m\n",
      "\u001b[1;32mE:\\Anaconda\\lib\\site-packages\\torch\\nn\\modules\\sparse.py\u001b[0m in \u001b[0;36mforward\u001b[1;34m(self, input)\u001b[0m\n\u001b[0;32m    156\u001b[0m \u001b[1;33m\u001b[0m\u001b[0m\n\u001b[0;32m    157\u001b[0m     \u001b[1;32mdef\u001b[0m \u001b[0mforward\u001b[0m\u001b[1;33m(\u001b[0m\u001b[0mself\u001b[0m\u001b[1;33m,\u001b[0m \u001b[0minput\u001b[0m\u001b[1;33m:\u001b[0m \u001b[0mTensor\u001b[0m\u001b[1;33m)\u001b[0m \u001b[1;33m->\u001b[0m \u001b[0mTensor\u001b[0m\u001b[1;33m:\u001b[0m\u001b[1;33m\u001b[0m\u001b[1;33m\u001b[0m\u001b[0m\n\u001b[1;32m--> 158\u001b[1;33m         return F.embedding(\n\u001b[0m\u001b[0;32m    159\u001b[0m             \u001b[0minput\u001b[0m\u001b[1;33m,\u001b[0m \u001b[0mself\u001b[0m\u001b[1;33m.\u001b[0m\u001b[0mweight\u001b[0m\u001b[1;33m,\u001b[0m \u001b[0mself\u001b[0m\u001b[1;33m.\u001b[0m\u001b[0mpadding_idx\u001b[0m\u001b[1;33m,\u001b[0m \u001b[0mself\u001b[0m\u001b[1;33m.\u001b[0m\u001b[0mmax_norm\u001b[0m\u001b[1;33m,\u001b[0m\u001b[1;33m\u001b[0m\u001b[1;33m\u001b[0m\u001b[0m\n\u001b[0;32m    160\u001b[0m             self.norm_type, self.scale_grad_by_freq, self.sparse)\n",
      "\u001b[1;32mE:\\Anaconda\\lib\\site-packages\\torch\\nn\\functional.py\u001b[0m in \u001b[0;36membedding\u001b[1;34m(input, weight, padding_idx, max_norm, norm_type, scale_grad_by_freq, sparse)\u001b[0m\n\u001b[0;32m   2041\u001b[0m         \u001b[1;31m# remove once script supports set_grad_enabled\u001b[0m\u001b[1;33m\u001b[0m\u001b[1;33m\u001b[0m\u001b[1;33m\u001b[0m\u001b[0m\n\u001b[0;32m   2042\u001b[0m         \u001b[0m_no_grad_embedding_renorm_\u001b[0m\u001b[1;33m(\u001b[0m\u001b[0mweight\u001b[0m\u001b[1;33m,\u001b[0m \u001b[0minput\u001b[0m\u001b[1;33m,\u001b[0m \u001b[0mmax_norm\u001b[0m\u001b[1;33m,\u001b[0m \u001b[0mnorm_type\u001b[0m\u001b[1;33m)\u001b[0m\u001b[1;33m\u001b[0m\u001b[1;33m\u001b[0m\u001b[0m\n\u001b[1;32m-> 2043\u001b[1;33m     \u001b[1;32mreturn\u001b[0m \u001b[0mtorch\u001b[0m\u001b[1;33m.\u001b[0m\u001b[0membedding\u001b[0m\u001b[1;33m(\u001b[0m\u001b[0mweight\u001b[0m\u001b[1;33m,\u001b[0m \u001b[0minput\u001b[0m\u001b[1;33m,\u001b[0m \u001b[0mpadding_idx\u001b[0m\u001b[1;33m,\u001b[0m \u001b[0mscale_grad_by_freq\u001b[0m\u001b[1;33m,\u001b[0m \u001b[0msparse\u001b[0m\u001b[1;33m)\u001b[0m\u001b[1;33m\u001b[0m\u001b[1;33m\u001b[0m\u001b[0m\n\u001b[0m\u001b[0;32m   2044\u001b[0m \u001b[1;33m\u001b[0m\u001b[0m\n\u001b[0;32m   2045\u001b[0m \u001b[1;33m\u001b[0m\u001b[0m\n",
      "\u001b[1;31mIndexError\u001b[0m: index out of range in self"
     ]
    }
   ],
   "source": [
    "embedding2 = nn.Embedding(num_embeddings=10, embedding_dim=3)\n",
    "sample = torch.LongTensor([[6, 4, 2, 9], \n",
    "                           [10, 12, 8, 1]])  # 注意输入中的idx不能超过num_beddings设置的数值(本例为10)，程序会报错;\n",
    "embedding2(sample)"
   ]
  },
  {
   "cell_type": "code",
   "execution_count": 11,
   "id": "ed285342-5fe6-43af-a65c-557501321891",
   "metadata": {},
   "outputs": [
    {
     "data": {
      "text/plain": [
       "tensor([[[ 0.7326, -1.9357,  1.6050],\n",
       "         [ 0.0000,  0.0000,  0.0000],\n",
       "         [ 1.1151,  1.3207,  1.7409],\n",
       "         [ 0.2858, -1.3380, -0.8058]]], grad_fn=<EmbeddingBackward>)"
      ]
     },
     "execution_count": 11,
     "metadata": {},
     "output_type": "execute_result"
    }
   ],
   "source": [
    "embedding3 = nn.Embedding(num_embeddings=10, embedding_dim=3, padding_idx=2)  # 将input中对应的idx全部置为0;\n",
    "sample = torch.LongTensor([[1, 2, 0, 5]])\n",
    "embedding3(sample)"
   ]
  },
  {
   "cell_type": "code",
   "execution_count": 28,
   "id": "b3e0a2f5-0451-4756-9c5a-4e55b8133bb9",
   "metadata": {},
   "outputs": [],
   "source": [
    "class Embeddings(nn.Module):\n",
    "    \n",
    "    # 类初始化函数\n",
    "    def __init__(self, vocab, d_model):\n",
    "        \"\"\"\n",
    "        d_model: 词嵌入维度;\n",
    "        vocab: 词汇表的大小;\n",
    "        \"\"\"\n",
    "        super(Embeddings, self).__init__()  # 使用super()表明初始化函数继承自Embeddings;\n",
    "        # 调用nn中的预定义层Embedding, 获得一个词嵌入对象;\n",
    "        self.lut = nn.Embedding(num_embeddings=vocab, embedding_dim=d_model)\n",
    "        self.d_model = d_model\n",
    "    \n",
    "    # 该层的前向传播逻辑，所有层中都会有此函数:  当外部传入给该类的实例对象参数时，torch会自动调用该实例方法；\n",
    "    def forward(self, x):\n",
    "        \"\"\"\n",
    "        x: 因为Embedding层是首层，所以代表输入给模型的文本通过词汇映射后的张量;\n",
    "        \"\"\"\n",
    "        # 将x传给self.lut并与根号下self.d_model相乘(缩放功能, 控制数值大小)作为结果返回;\n",
    "        return self.lut(x) * math.sqrt(self.d_model)"
   ]
  },
  {
   "cell_type": "code",
   "execution_count": 29,
   "id": "14952943-acc1-4cbc-b053-961b63488950",
   "metadata": {},
   "outputs": [
    {
     "name": "stdout",
     "output_type": "stream",
     "text": [
      "输入x的维度为: torch.Size([2, 4])\n"
     ]
    },
    {
     "data": {
      "text/plain": [
       "tensor([[100,   2, 421, 508],\n",
       "        [491, 998,   1, 221]])"
      ]
     },
     "execution_count": 29,
     "metadata": {},
     "output_type": "execute_result"
    }
   ],
   "source": [
    "# 设置参数;\n",
    "d_model = 512  # 词嵌入维度;\n",
    "vocab = 1000  # 词汇表大小;\n",
    "# 输入x是一个使用Variable封装的长整型变量，形状是2*4;\n",
    "x = Variable(torch.LongTensor([[100, 2, 421, 508], \n",
    "                               [491, 998, 1, 221]]))\n",
    "print(\"输入x的维度为:\", x.shape)\n",
    "x"
   ]
  },
  {
   "cell_type": "code",
   "execution_count": 30,
   "id": "405cd1e1-fc6e-4178-bf09-bb2f9365896e",
   "metadata": {},
   "outputs": [
    {
     "name": "stdout",
     "output_type": "stream",
     "text": [
      "维度为: torch.Size([2, 4, 512])\n"
     ]
    },
    {
     "data": {
      "text/plain": [
       "tensor([[[-17.2990,  14.1965, -32.0529,  ..., -22.3831, -13.2464,  14.1289],\n",
       "         [-12.0476,  44.2968,   1.5094,  ...,   2.7186, -16.5343, -14.3205],\n",
       "         [  6.7501, -21.1575,  10.7444,  ..., -17.6629,  20.7668,   8.0726],\n",
       "         [ -4.4287, -27.2038,   0.7414,  ...,  11.9140, -12.7844,  -3.9581]],\n",
       "\n",
       "        [[ -4.7024, -29.4047,  14.9030,  ...,  -0.1109,  23.4812,  37.1878],\n",
       "         [ -4.8218,  25.1742, -15.8650,  ...,  25.6967,  18.8379,   7.8923],\n",
       "         [-38.0939,  -6.6169,  12.0502,  ...,   7.0672,  -6.9286,  24.4094],\n",
       "         [ -6.0510, -19.2547, -22.9137,  ..., -20.5898, -17.2267,  -1.1193]]],\n",
       "       grad_fn=<MulBackward0>)"
      ]
     },
     "execution_count": 30,
     "metadata": {},
     "output_type": "execute_result"
    }
   ],
   "source": [
    "# Embeddings类实例化;\n",
    "emb = Embeddings(vocab, d_model)\n",
    "# 对象调用;\n",
    "embr = emb(x)\n",
    "print(\"维度为:\", embr.shape)\n",
    "embr"
   ]
  },
  {
   "cell_type": "markdown",
   "id": "0a14075f-fc13-4bfb-b3f5-258ba89c62cd",
   "metadata": {},
   "source": [
    "### 2.1.2 位置编码器\n",
    "\n",
    "- 作用: 在Transformer编码器结构中，并没有针对词汇位置信息的处理，因此需要在Embedding层中加入位置编码器，将词汇优于位置不同可能会产生不同语义的信息加入到词嵌入张量中，以弥补位置信息的缺失，如\"我爱中国\"和\"中国爱我\"。"
   ]
  },
  {
   "cell_type": "code",
   "execution_count": 38,
   "id": "33945cdb-38e0-4175-8a33-d36eb733306b",
   "metadata": {},
   "outputs": [
    {
     "name": "stdout",
     "output_type": "stream",
     "text": [
      "原始数据维度为: torch.Size([4]) tensor([1, 2, 3, 4])\n",
      "升一维后的维度为: torch.Size([1, 4]) tensor([[1, 2, 3, 4]])\n",
      "升一维后的维度为: torch.Size([4, 1]) tensor([[1],\n",
      "        [2],\n",
      "        [3],\n",
      "        [4]])\n"
     ]
    }
   ],
   "source": [
    "x = torch.tensor([1, 2, 3, 4])\n",
    "print(\"原始数据维度为:\", x.shape, x)\n",
    "\n",
    "x_2 = x.unsqueeze(0)  # 也可以使用torch.unsqueeze(x, 0)\n",
    "print(\"升一维后的维度为:\", x_2.shape, x_2)\n",
    "\n",
    "x_3 = torch.unsqueeze(, dim=1)  # 也可以使用torch.unsqueeze(x, 0)\n",
    "print(\"升一维后的维度为:\", x_3.shape, x_3)"
   ]
  },
  {
   "cell_type": "code",
   "execution_count": 37,
   "id": "53f2fd39-39db-4aa6-a069-c289794f0b68",
   "metadata": {},
   "outputs": [
    {
     "data": {
      "text/plain": [
       "tensor([[-0.4709,  0.0044,  1.1978, -0.0640,  1.3698],\n",
       "        [-1.7737, -0.0000,  0.0980,  0.2306, -1.5674],\n",
       "        [ 1.0680,  0.6984, -0.0000,  1.0395, -1.4948],\n",
       "        [-0.4038,  0.3801,  0.0000,  0.8346,  1.2462]])"
      ]
     },
     "execution_count": 37,
     "metadata": {},
     "output_type": "execute_result"
    }
   ],
   "source": [
    "m = nn.Dropout(0.2)  # p随机失活率;\n",
    "sample3 = torch.randn(4, 5)\n",
    "m(sample3)"
   ]
  },
  {
   "cell_type": "markdown",
   "id": "528b8300-1648-4748-8d0c-872b85ce4516",
   "metadata": {},
   "source": [
    "**分析:** \n",
    "- 词嵌入文本组成的特征矩阵 + 位置矩阵 --> 可获得带有位置信息的词嵌入文本，而特征矩阵可通过Embeddings获得，那么我们的重心就是如何计算位置矩阵;\n",
    "- 位置矩阵要与特征矩阵进行对应元素(element-wise)的相加，那么它们的维度(max_len, dim)肯定是相同的 --> 位置编码矩阵pe = torch.zeors(max_len, dim);\n",
    "- 既然是位置矩阵，那么我们首先需要获得每一个词汇的绝对位置，本文使用索引(连续自然数向量)来对其进行表示 --> position = torch.arange(0, max_len).unsqueeze(1) --> position维度(max_len, 1)\n",
    "- 绝对位置矩阵初始化后，接下来就是考虑如何将这些位置信息加入到位置编码矩阵pe中?\n",
    "- 绝对位置矩阵position的维度为(max_len, 1)，而位置编码矩阵的维度为(max_len, dim)，很明显我们需要一个维度为(1, dim)的变换矩阵div_term；\n",
    "- 变换矩阵div_term除了形状必须满足(1, dim)外，我们还希望它可以将自然数的绝对位置编码pe缩放成足够小的数字，有助于后面梯度下降过程下降的更快;"
   ]
  },
  {
   "cell_type": "markdown",
   "id": "b68002ad-4352-40c6-8120-5166fea3498a",
   "metadata": {},
   "source": [
    "<center><img src=\"images/位置编码.png\" style=\"zoom: 70%\"></center>"
   ]
  },
  {
   "cell_type": "code",
   "execution_count": 391,
   "id": "858c5d5e-ca7a-4193-9c5c-df864841410c",
   "metadata": {},
   "outputs": [],
   "source": [
    "class PositionalEncoding(nn.Module):\n",
    "    \n",
    "    # 位置编码器初始化函数;\n",
    "    def __init__(self, d_model, dropout, max_len=5000):  # 下面演示序列最大长度max_len=60, d_model=512\n",
    "        \"\"\"\n",
    "        d_model: 词嵌入维度;\n",
    "        dropout: 置0比率;\n",
    "        max_len: 每个序列(句子)的最大长度;\n",
    "        \"\"\"\n",
    "        super(PositionalEncoding, self).__init__()\n",
    "        # 1.先实例化一个nn中预定义的Dropout层，并将dropout传入其中，获得对象self.dropout;\n",
    "        self.dropout = nn.Dropout(p=dropout)\n",
    "        \n",
    "        # 2. 初始化一个位置编码矩阵(positional encoding)，它的维度为(max_len, d_model);\n",
    "        pe = torch.zeros(max_len, d_model)  # (60, 512)\n",
    "        \n",
    "        # 3. 初始化一个绝对位置矩阵，它的维度为(max_len, )，其中unsqueeze(1)是为了将其升维(max_len, 1);\n",
    "        position = torch.arange(0, max_len).unsqueeze(1)  # (60, 1)\n",
    "        \n",
    "        # 4. 初始化变换矩阵: 自然数矩阵(step=2)*缩放系数\n",
    "        \"\"\"\n",
    "        - 这里并没有直接按照之前分析的那样初始化了一个(1, d_model)的矩阵，而是有了一个跳跃，即只初始化了一半(1, d_model/2=256)的矩阵，为什么是一半呢?\n",
    "        - 其实，这里并不是真正意义上的初始化了一半的矩阵，而是可以将其看作是初始化了2次，而每次初始化的变换矩阵会做不同的处理;\n",
    "        - 第一次初始化的变换矩阵分布在正弦波上，第二次初始化的变换矩阵分布在余弦波上，并且把这两个矩阵分别填充在位置编码矩阵的偶数和奇数位置上，形成最终的位置编码矩阵;\n",
    "        \"\"\"\n",
    "        div_term = torch.exp(torch.arange(0, d_model, 2) * -(math.log(10000.0)/d_model))  # (1, (end-start)/step=256)\n",
    "        pe[:, 0::2] = torch.sin(position * div_term)  # (60, 256)  --> 给每一个词汇的偶数列增加sin(位置编码信息);\n",
    "        pe[:, 1::2] = torch.cos(position * div_term)  # (60, 256)  --> 给每一个词汇的奇数列增加cos(位置编码信息);\n",
    "        pe = pe.unsqueeze(0)  # 为了将pe与embeddding进行相加，还需要将pe进行升维(初始为二维);\n",
    "        \n",
    "        # 5. 最后，将pe位置编码矩阵注册成模型的buffer，什么是buffer呢?\n",
    "        \"\"\"\n",
    "        - 我们可以将其看作是对模型有帮助，但却不是模型结构中的参数或超参数，不需要随着优化步骤进行更新的增益对象;\n",
    "        - 注册之后我们就可以在模型保存后重加载时和模型结构与参数一同被加载，类似于向模块添加持久缓冲区，并且缓冲区使用给定的名称作为属性访问;\n",
    "        \"\"\"\n",
    "        self.register_buffer(\"pe\", pe)\n",
    "    \n",
    "    # 前向传播逻辑;\n",
    "    def forward(self, x):  # x为文本序列的词嵌入表示(2, 4, 512)\n",
    "        \"\"\"\n",
    "        pe: (1, max_len, d_model) --> (1, 5000, 512)\n",
    "        - 在将位置编码矩阵pe和词嵌入特征矩阵进行相加前，我们还需要对pe做一些适配工作,将pe的第二维max_len切片至与输入的x第二维相同即可;\n",
    "        - 位置编码矩阵本质上相当于我们提前做了一个很大的【位置编码表】，而它使用的max_len实际中很少有一个句子可以包含5000个词汇，所以要与输入张量进行适配;\n",
    "        - 最后使用Variable对其进行封装，使它与x的样式相同，但是它是不需要进行梯度求解的，所以要把requires_grad设置为False;\n",
    "        \"\"\"\n",
    "        x = x + Variable(self.pe[:, :x.size(1)], requires_grad=False)\n",
    "        return self.dropout(x)"
   ]
  },
  {
   "cell_type": "code",
   "execution_count": 392,
   "id": "76c53a7f-59b1-422c-9e79-8c28a357c90e",
   "metadata": {},
   "outputs": [
    {
     "name": "stdout",
     "output_type": "stream",
     "text": [
      "词嵌入维度为: 512\n"
     ]
    }
   ],
   "source": [
    "# 实例化参数;\n",
    "dropout = 0.1\n",
    "max_len = 60\n",
    "print(\"词嵌入维度为:\", d_model)"
   ]
  },
  {
   "cell_type": "code",
   "execution_count": 393,
   "id": "f9798044-4e0d-4878-affc-5cd4cb2da70f",
   "metadata": {},
   "outputs": [
    {
     "name": "stdout",
     "output_type": "stream",
     "text": [
      "词嵌入维度为: torch.Size([2, 4, 512])\n"
     ]
    },
    {
     "data": {
      "text/plain": [
       "tensor([[[-17.2990,  17.1965, -32.0529,  ..., -19.3831, -13.2464,  17.1289],\n",
       "         [ -9.5232,  45.9177,   3.9750,  ...,   5.7186, -16.5340, -11.3205],\n",
       "         [  9.4780, -22.4059,  13.5536,  ..., -14.6629,  20.7674,  11.0726],\n",
       "         [ -4.0054, -30.1738,   1.4766,  ...,  14.9140, -12.7834,  -0.9581]],\n",
       "\n",
       "        [[ -4.7024, -26.4047,  14.9030,  ...,   2.8891,  23.4812,  40.1878],\n",
       "         [ -2.2974,  26.7951, -13.3995,  ...,  28.6967,  18.8382,  10.8923],\n",
       "         [-35.3660,  -7.8654,  14.8594,  ...,  10.0672,  -6.9280,  27.4094],\n",
       "         [ -5.6277, -22.2247, -22.1785,  ..., -17.5898, -17.2257,   1.8807]]],\n",
       "       grad_fn=<AddBackward0>)"
      ]
     },
     "execution_count": 393,
     "metadata": {},
     "output_type": "execute_result"
    }
   ],
   "source": [
    "print(\"词嵌入维度为:\", embr.shape)\n",
    "embr"
   ]
  },
  {
   "cell_type": "code",
   "execution_count": 394,
   "id": "3648c23f-000e-46ba-86e1-4cc8a15d698b",
   "metadata": {},
   "outputs": [
    {
     "name": "stdout",
     "output_type": "stream",
     "text": [
      "位置编码后维度为: torch.Size([2, 4, 512])\n"
     ]
    },
    {
     "data": {
      "text/plain": [
       "tensor([[[-1.9221e+01,  2.0218e+01, -3.5614e+01,  ..., -0.0000e+00,\n",
       "          -1.4718e+01,  0.0000e+00],\n",
       "         [-9.6464e+00,  5.1620e+01,  5.3298e+00,  ...,  7.4651e+00,\n",
       "          -1.8371e+01, -1.1467e+01],\n",
       "         [ 1.1541e+01, -2.5358e+01,  1.6100e+01,  ..., -1.5181e+01,\n",
       "           2.3075e+01,  1.3414e+01],\n",
       "         [-4.2936e+00, -3.4626e+01,  1.9130e+00,  ...,  0.0000e+00,\n",
       "          -1.4203e+01,  4.6532e-02]],\n",
       "\n",
       "        [[-5.2249e+00, -2.8227e+01,  1.6559e+01,  ...,  4.3212e+00,\n",
       "           0.0000e+00,  0.0000e+00],\n",
       "         [-1.6177e+00,  3.0373e+01, -1.3975e+01,  ...,  3.2996e+01,\n",
       "           2.0931e+01,  1.3214e+01],\n",
       "         [-3.8285e+01, -9.2017e+00,  1.7551e+01,  ...,  1.2297e+01,\n",
       "          -7.6976e+00,  3.1566e+01],\n",
       "         [-6.0962e+00, -0.0000e+00, -2.4370e+01,  ..., -1.8433e+01,\n",
       "          -1.9139e+01,  0.0000e+00]]], grad_fn=<MulBackward0>)"
      ]
     },
     "execution_count": 394,
     "metadata": {},
     "output_type": "execute_result"
    }
   ],
   "source": [
    "# 位置编码类实例化对象;\n",
    "pe = PositionalEncoding(d_model, dropout, max_len=max_len)\n",
    "x = embr\n",
    "pe_result = pe(x)\n",
    "print(\"位置编码后维度为:\", pe_result.size())\n",
    "pe_result"
   ]
  },
  {
   "cell_type": "markdown",
   "id": "a3547a4f-089b-40c7-9b57-cce8aee39202",
   "metadata": {},
   "source": [
    "**绘制词汇向量中特征的分布曲线:**"
   ]
  },
  {
   "cell_type": "code",
   "execution_count": 395,
   "id": "5b4dc9f0-b771-4a62-828d-3f8f2eba6d24",
   "metadata": {},
   "outputs": [
    {
     "data": {
      "text/plain": [
       "torch.Size([1, 100, 20])"
      ]
     },
     "execution_count": 395,
     "metadata": {},
     "output_type": "execute_result"
    }
   ],
   "source": [
    "dim = 20\n",
    "pe_test = PositionalEncoding(d_model=dim, dropout=0)\n",
    "y = pe_test(Variable(torch.zeros(1, 100, dim)))  # x为全0，相当于编码后的结果就是pe;\n",
    "y.shape"
   ]
  },
  {
   "cell_type": "code",
   "execution_count": 396,
   "id": "4241f40a-de8e-4726-9684-661305b3960d",
   "metadata": {},
   "outputs": [
    {
     "data": {
      "image/png": "[encoded data removed]",
      "text/plain": [
       "<Figure size 1500x500 with 1 Axes>"
      ]
     },
     "metadata": {
      "needs_background": "light"
     },
     "output_type": "display_data"
    }
   ],
   "source": [
    "plt.figure(dpi= 100, figsize=(15, 5))\n",
    "plt.plot(np.arange(100), y[0, :, 4:8].data.numpy())  # pe总共有20维，我们这里只展示4-7维;\n",
    "plt.legend([\"dim %d\" % p for p in np.arange(4, 8)])  \n",
    "plt.xlabel(\"seq_len\")\n",
    "plt.ylabel(\"d_model\")\n",
    "plt.grid()\n",
    "plt.show()"
   ]
  },
  {
   "cell_type": "markdown",
   "id": "33f763ea-8fe0-432e-8af8-81618f332e22",
   "metadata": {},
   "source": [
    "**效果分析:**\n",
    "\n",
    "- 每条颜色的曲线代表某一个词汇中的特征在不同位置的含义;\n",
    "- 保证同一词汇随着所在位置不同它对应位置嵌入向量会发生变化;\n",
    "- 正弦波和预先波的值域范围都是-1到1，这又很好地控制了嵌入数值的大小，有助于梯度的快速计算;"
   ]
  },
  {
   "cell_type": "markdown",
   "id": "23c003ba-7041-48d4-a7f4-013442ce9e3a",
   "metadata": {},
   "source": [
    "## 2.2 编码器部分"
   ]
  },
  {
   "cell_type": "markdown",
   "id": "692ec0f7-86bc-4853-9d6f-ef55c745c975",
   "metadata": {},
   "source": [
    "<center><img src=\"images/编码器.png\"></center>\n",
    "\n",
    "- 由N个编码器层堆叠二层，并且每个编码器层由2个子层连接结构组成;\n",
    "- 第一个子层连接结构由一个多头自注意力子层、规范层和一个残差连接组成;\n",
    "- 第二个子层连接结构包括一个前馈全连接子层、规范层以及一个残差连接组成;"
   ]
  },
  {
   "cell_type": "markdown",
   "id": "41fc4276-8037-4a86-8641-753231b9f6c8",
   "metadata": {},
   "source": [
    "### 2.2.1 掩码张量"
   ]
  },
  {
   "cell_type": "markdown",
   "id": "1eaec2ae-6240-4c6a-b266-1489a211f927",
   "metadata": {},
   "source": [
    "&emsp;&emsp;**什么是掩码张量：**\n",
    "\n",
    "&emsp;&emsp;掩代表遮掩，码就是我们张量中的数值，它的尺寸不定，里面的元素一般只有0和1，代表位置不被遮掩或被遮掩，至于是0位置被遮掩还是1位置被遮掩可以自定义，因此它的作用就是让另外一个张量中的一些数值被遮掩，也可以说被替换，它的表现形式是一个张量;\n",
    "\n",
    "\n",
    "&emsp;&emsp;**掩码张量的作用：**\n",
    "\n",
    "&emsp;&emsp;在Transformer中，掩码张量的主要作用在应用attention(注意力机制)，有一些生成的attention张量中的值计算有可能已知了未来信息而得到的，未来信息被看到是因为训练时把整个输出结果都一次性进行Embedding, 但是理论上解码器的输出却不是一次就能产生最终结果的 ，而是一次次通过上次结果综合得出的，因此，未来的信息可能被提前利用，所以，我们会对其进行遮掩;"
   ]
  },
  {
   "cell_type": "code",
   "execution_count": 397,
   "id": "4bd4d66e-f3b0-4c09-84cb-df6c8c9ee5c9",
   "metadata": {},
   "outputs": [
    {
     "data": {
      "text/plain": [
       "array([[ 1,  2,  3,  4],\n",
       "       [ 0,  6,  7,  8],\n",
       "       [ 0,  0, 11, 12],\n",
       "       [ 0,  0,  0, 16]])"
      ]
     },
     "execution_count": 397,
     "metadata": {},
     "output_type": "execute_result"
    }
   ],
   "source": [
    "data = np.arange(1, 17).reshape(4, 4)\n",
    "# np.triu: 上三角矩阵(0整体方向朝上, 即逐层递增) --> np.tril()下三角矩阵;\n",
    "np.triu(data, k=0)  # k=0表示对角线以下置为上三角矩阵, k=-1表示对角线下一层, k=1表示对角线以上;"
   ]
  },
  {
   "cell_type": "code",
   "execution_count": 398,
   "id": "939f9776-fc74-4171-ab95-eb8637a10603",
   "metadata": {},
   "outputs": [
    {
     "data": {
      "text/plain": [
       "array([[ 1,  2,  3,  4],\n",
       "       [ 5,  6,  7,  8],\n",
       "       [ 0, 10, 11, 12],\n",
       "       [ 0,  0, 15, 16]])"
      ]
     },
     "execution_count": 398,
     "metadata": {},
     "output_type": "execute_result"
    }
   ],
   "source": [
    "np.triu(data, k=-1)"
   ]
  },
  {
   "cell_type": "code",
   "execution_count": 399,
   "id": "fb9e36d5-e795-4490-8b95-6079197af831",
   "metadata": {},
   "outputs": [
    {
     "data": {
      "text/plain": [
       "array([[ 0,  2,  3,  4],\n",
       "       [ 0,  0,  7,  8],\n",
       "       [ 0,  0,  0, 12],\n",
       "       [ 0,  0,  0,  0]])"
      ]
     },
     "execution_count": 399,
     "metadata": {},
     "output_type": "execute_result"
    }
   ],
   "source": [
    "np.triu(data, k=1)"
   ]
  },
  {
   "cell_type": "code",
   "execution_count": 400,
   "id": "b145ad25-5605-46a0-bc94-b241ae8f07f2",
   "metadata": {},
   "outputs": [
    {
     "data": {
      "text/plain": [
       "array([[ 1,  0,  0,  0],\n",
       "       [ 5,  6,  0,  0],\n",
       "       [ 9, 10, 11,  0],\n",
       "       [13, 14, 15, 16]])"
      ]
     },
     "execution_count": 400,
     "metadata": {},
     "output_type": "execute_result"
    }
   ],
   "source": [
    "# 下三角矩阵: \n",
    "np.tril(data, k=0)"
   ]
  },
  {
   "cell_type": "code",
   "execution_count": 401,
   "id": "11b5651e-bb32-443d-8cb3-4ef3865d0be3",
   "metadata": {},
   "outputs": [
    {
     "data": {
      "text/plain": [
       "array([[ 0,  0,  0,  0],\n",
       "       [ 5,  0,  0,  0],\n",
       "       [ 9, 10,  0,  0],\n",
       "       [13, 14, 15,  0]])"
      ]
     },
     "execution_count": 401,
     "metadata": {},
     "output_type": "execute_result"
    }
   ],
   "source": [
    "np.tril(data, k=-1)"
   ]
  },
  {
   "cell_type": "code",
   "execution_count": 402,
   "id": "4968a03a-1df5-40af-9a0b-7df7cd1b2375",
   "metadata": {},
   "outputs": [
    {
     "data": {
      "text/plain": [
       "array([[ 1,  2,  0,  0],\n",
       "       [ 5,  6,  7,  0],\n",
       "       [ 9, 10, 11, 12],\n",
       "       [13, 14, 15, 16]])"
      ]
     },
     "execution_count": 402,
     "metadata": {},
     "output_type": "execute_result"
    }
   ],
   "source": [
    "np.tril(data, k=1)"
   ]
  },
  {
   "cell_type": "code",
   "execution_count": 403,
   "id": "b0121be1-e426-4a60-bef4-220c4323f516",
   "metadata": {},
   "outputs": [
    {
     "data": {
      "text/plain": [
       "array([[0., 1., 1., 1.],\n",
       "       [0., 0., 1., 1.],\n",
       "       [0., 0., 0., 1.],\n",
       "       [0., 0., 0., 0.]])"
      ]
     },
     "execution_count": 403,
     "metadata": {},
     "output_type": "execute_result"
    }
   ],
   "source": [
    "temp = np.triu(np.ones(shape=(4, 4)), k=1)\n",
    "temp"
   ]
  },
  {
   "cell_type": "code",
   "execution_count": 404,
   "id": "0d6378ca-d095-4bf7-a947-4745e84897fa",
   "metadata": {},
   "outputs": [
    {
     "data": {
      "text/plain": [
       "array([[1., 0., 0., 0.],\n",
       "       [1., 1., 0., 0.],\n",
       "       [1., 1., 1., 0.],\n",
       "       [1., 1., 1., 1.]])"
      ]
     },
     "execution_count": 404,
     "metadata": {},
     "output_type": "execute_result"
    }
   ],
   "source": [
    "1 - temp"
   ]
  },
  {
   "cell_type": "code",
   "execution_count": 405,
   "id": "baddbfc2-18a3-4999-90d6-e641e966ddf0",
   "metadata": {},
   "outputs": [],
   "source": [
    "# 生成掩码张量的代码分析;\n",
    "def subsequent_mask(size):  # 参数size表示掩码张量最后两维的大小，它的最后两维形成一个方阵;\n",
    "    # 首先定义掩码张量的形状;\n",
    "    attn_shape = (1, size, size)\n",
    "    \n",
    "    # 然后使用np.ones()方法向这个形状中添加1元素，形成上三角矩阵，最后为节约空间再使其中的数据类型变为无符号8位整形uint8;\n",
    "    subsequent_mask = np.triu(np.ones(attn_shape), k=1).astype(\"uint8\")\n",
    "    \n",
    "    # 最后将numpy类型转为torch中的tensor类型，内部做一个1-操作将上三角矩阵转为下三角矩阵: 防止未来信息被提前使用;\n",
    "    return torch.from_numpy(1 - subsequent_mask)"
   ]
  },
  {
   "cell_type": "code",
   "execution_count": 406,
   "id": "bceb928f-5ddc-461c-b005-262851af6ff9",
   "metadata": {},
   "outputs": [
    {
     "data": {
      "text/plain": [
       "tensor([[[1, 0, 0, 0, 0],\n",
       "         [1, 1, 0, 0, 0],\n",
       "         [1, 1, 1, 0, 0],\n",
       "         [1, 1, 1, 1, 0],\n",
       "         [1, 1, 1, 1, 1]]], dtype=torch.uint8)"
      ]
     },
     "execution_count": 406,
     "metadata": {},
     "output_type": "execute_result"
    }
   ],
   "source": [
    "# 生成的掩码张量最后两维大小\n",
    "size = 5\n",
    "sm = subsequent_mask(size)\n",
    "sm"
   ]
  },
  {
   "cell_type": "code",
   "execution_count": 407,
   "id": "0d127d05-4b10-4232-af80-c2a3fcf4d2c5",
   "metadata": {},
   "outputs": [
    {
     "data": {
      "image/png": "[encoded data removed]",
      "text/plain": [
       "<Figure size 600x600 with 1 Axes>"
      ]
     },
     "metadata": {
      "needs_background": "light"
     },
     "output_type": "display_data"
    }
   ],
   "source": [
    "# 我们将进行可视化展示;\n",
    "target = \"我非常热爱强大自信国泰民安未来可期的中国\"  # 20--> 0、1、...、19\n",
    "plt.figure(dpi=100, figsize=(6, 6))\n",
    "plt.imshow(subsequent_mask(20)[0])\n",
    "plt.xlabel(\"目标词汇位置\", fontdict=dict(family=\"SimHei\"))\n",
    "plt.ylabel(\"可查看位置\", fontdict={\"family\": \"SimHei\"})\n",
    "plt.yticks(range(0, 20))\n",
    "plt.xticks(range(0, 20))\n",
    "# 将目标文本展示在上述方阵中;\n",
    "for x in range(0, 19):\n",
    "    for y in range(x+1, 20):\n",
    "        plt.text(y, x, target[x], fontdict={\"color\": \"white\", \"family\": \"SimHei\"}, ha=\"center\", va=\"center\")\n",
    "    plt.annotate(text=\" \", xy=(x+0.95,x+0.5), xytext=(x+0.95, 20), arrowprops=dict(arrowstyle=\"->\", color=\"red\"))  # xy表示text的终点坐标，xytext表示text的起点坐标;\n",
    "plt.show()"
   ]
  },
  {
   "cell_type": "markdown",
   "id": "ed39c4ed-da94-4a3c-9125-9198d74eda4f",
   "metadata": {},
   "source": [
    "**观察分析:**\n",
    "\n",
    "- 上述方阵，黄色是1的部分，表示被遮掩，紫色代表没有被遮掩的信息，横坐标代表目标词汇的位置，纵坐标表示可查看的位置;\n",
    "- 可以看到: 在0位置，一眼望去都是黄色，而1的位置只能看到一个信息，并且该信息是前一次的信息，而其它位置的信息也看不到;"
   ]
  },
  {
   "cell_type": "markdown",
   "id": "d33f6c08-7486-4a96-ad44-d6e95362a28c",
   "metadata": {},
   "source": [
    "### 2.2.2 注意力机制"
   ]
  },
  {
   "cell_type": "markdown",
   "id": "628fe30b-6262-4edf-8a58-15f69be4b62c",
   "metadata": {},
   "source": [
    "**什么是注意力:** \n",
    "- 我们观察事物时，之所以能够快速判断一种事物，是因为我们的大脑能够很快把注意力放在事物最具有辨识度的部分，而并非是从头到尾观察一遍事物后，才能有判断结果。基于这样的理论，就产生了注意力机制.\n",
    "\n",
    "**注意力计算规则:** \n",
    "- 需要三个指定的输入Q(query), K(key), V(value), 然后通过公式得到注意力的计算结果, 这个结果代表query在key和value作用下的表示. 而这个具体的计算规则有很多种, 我们这里只介绍一种;\n",
    "\n",
    "$$\\text{Attention} = \\text{Softmax}(\\frac{Q·K^T}{\\sqrt{d_k}})·V$$\n",
    "\n",
    "**Q、K和V的形象比喻:** 假如我们有一个问题: 给出一段文本，使用一些关键词对它进行描述!\n",
    "\n",
    "- 为了方便统一正确答案，这道题可能预先已经给大家写出了一些关键词作为提示,其中这些给出的提示就可以看作是key, 而整个的文本信息就相当于是query, value的含义则更抽象，可以比作是你看到这段文本信息后，脑子里浮现的答案信息。\n",
    "- 这里我们又假设大家最开始都不是很聪明，第一次看到这段文本后脑子里基本上浮现的信息就只有提示这些信息，因此key与value基本是相同的，但是随着我们对这个问题的深入理解，通过我们的思考脑子里想起来的东西原来越多，并且能够开始对我们query也就是这段文本，提取关键信息进行表示，这就是注意力作用的过程，通过这个过程，我们最终脑子里的value发生了变化，根据提示key生成了query的关键词表示方法，是另外一种特征表示方法.\n",
    "- 刚刚我们说到key和value一般情况下默认是相同，与query是不同的，这种是我们一般的注意力输入形式；\n",
    "- 但有一种特殊情况，就是我们query与key和value相同，这种情况我们称为自注意力机制，就如同我们的刚刚的例子，使用一般注意力机制，是使用不同于给定文本的关键词表示它. 而<font color=\"red\">自注意力机制</font>，需要用给定文本自身来表达自己，也就是说你<font color=\"red\">需要从给定文本中抽取关键词来表述它, 相当于对文本自身的一次特征提取</font>。"
   ]
  },
  {
   "cell_type": "markdown",
   "id": "489deb9b-d974-481e-b45f-736726e88ebd",
   "metadata": {},
   "source": [
    "**注意力机制:** \n",
    "\n",
    "- 注意力计算规则能够应用到深度学习网络的载体，除注意力计算规则外，还包括一些必要的全连接层以及相关张量处理，使其与应用网络可以融为一体，使用自注意力计算规则的注意力机制为自注意力机制;"
   ]
  },
  {
   "cell_type": "markdown",
   "id": "a2438a27-dfe5-4e14-bd99-496738e75863",
   "metadata": {},
   "source": [
    "<center><img src=\"images/自注意机制.png\"></center>"
   ]
  },
  {
   "cell_type": "code",
   "execution_count": 408,
   "id": "d9d02071-226a-4414-8911-3325a074acc0",
   "metadata": {},
   "outputs": [
    {
     "data": {
      "text/plain": [
       "tensor([[ 0.2195, -0.9799, -0.2886,  1.1617,  0.7854],\n",
       "        [-0.4930, -1.1410, -0.5205,  0.1431,  0.7478],\n",
       "        [-0.5227, -1.1205, -0.4824,  0.9985,  1.8936],\n",
       "        [ 0.3613,  1.2409,  0.2907, -1.1920, -0.3815],\n",
       "        [-1.2226, -0.0873, -0.5108, -0.0287, -0.9502]])"
      ]
     },
     "execution_count": 408,
     "metadata": {},
     "output_type": "execute_result"
    }
   ],
   "source": [
    "sample = Variable(torch.randn(5, 5))\n",
    "sample"
   ]
  },
  {
   "cell_type": "code",
   "execution_count": 409,
   "id": "84729cb9-f341-4a1b-af8a-14adcabebd99",
   "metadata": {},
   "outputs": [
    {
     "data": {
      "text/plain": [
       "tensor([[1., 0., 0., 0., 0.],\n",
       "        [0., 0., 0., 0., 0.],\n",
       "        [0., 0., 0., 0., 0.],\n",
       "        [0., 0., 0., 0., 0.],\n",
       "        [0., 0., 0., 0., 0.]])"
      ]
     },
     "execution_count": 409,
     "metadata": {},
     "output_type": "execute_result"
    }
   ],
   "source": [
    "mask = Variable(torch.zeros(5, 5))\n",
    "mask[0][0] = 1\n",
    "mask"
   ]
  },
  {
   "cell_type": "code",
   "execution_count": 410,
   "id": "9f7f3667-d0ac-4032-bbf3-fbcd481a3ae6",
   "metadata": {},
   "outputs": [
    {
     "data": {
      "text/plain": [
       "tensor([[ 2.1947e-01, -1.0000e+09, -1.0000e+09, -1.0000e+09, -1.0000e+09],\n",
       "        [-1.0000e+09, -1.0000e+09, -1.0000e+09, -1.0000e+09, -1.0000e+09],\n",
       "        [-1.0000e+09, -1.0000e+09, -1.0000e+09, -1.0000e+09, -1.0000e+09],\n",
       "        [-1.0000e+09, -1.0000e+09, -1.0000e+09, -1.0000e+09, -1.0000e+09],\n",
       "        [-1.0000e+09, -1.0000e+09, -1.0000e+09, -1.0000e+09, -1.0000e+09]])"
      ]
     },
     "execution_count": 410,
     "metadata": {},
     "output_type": "execute_result"
    }
   ],
   "source": [
    "sample.masked_fill(mask == 0, value=-1e9)  # mask[0][0]处不是0，所以不进行填充;"
   ]
  },
  {
   "cell_type": "code",
   "execution_count": 411,
   "id": "e03793f3-f1de-4a40-8bba-d705c8d4f47a",
   "metadata": {},
   "outputs": [],
   "source": [
    "# 注意力机制实现;\n",
    "def attention(query, key, value, mask=None, dropout=None):\n",
    "    \"\"\"\n",
    "    query: 查询张量，一段准备被概括的文本; key: 键张量，给出的提示; value: 值张量，大脑对提示k的延申;\n",
    "    mask: 掩码张量; dropout: nn.Dropout层的实例对象，默认为None\n",
    "    \"\"\"\n",
    "    # 1.函数中，首先获取query的最后一维大小，一般情况下等同于我们的词嵌入维度, 即d_k;\n",
    "    d_k = query.size(-1)\n",
    "    \n",
    "    # 2.按照注意力公式，将query与key的转置相乘，这里面key将最后两个维度进行转置，再除以缩放系数根号下的d_k, 这种计算方法也称为缩放点积注意力计算;\n",
    "    scores = torch.matmul(query, key.transpose(-2, -1)) / math.sqrt(d_k)  # (2, 4, 512) * (2, 512, 4) --> (2, 4, 4)【query四个单词，key四个单词，需要计算它们的相似度，不转置无法计算】\n",
    "    \n",
    "    # 3.接着判断是否使用掩码张量;\n",
    "    if mask is not None:\n",
    "        # 使用tensor的masked_fill方法，将掩码张量和scores张量每个位置一一比较，如果掩码张量处为0，额对应的scores张量用-1e9这个值进行替换;\n",
    "        scores = scores.masked_fill(mask==0, -1e9)\n",
    "    \n",
    "    # 4. 对scores的最后一维进行softmax操作，使用Func.softmax()方法，第一个参数为softmax对象，第二个参数为目标维度 --> 注意力张量;\n",
    "    p_attn = Func.softmax(scores, dim=-1)\n",
    "    \n",
    "    # 5. 判断是否使用dropout进行随机置0;\n",
    "    if dropout is not None:\n",
    "        p_attn = dropout(p_attn)\n",
    "    return torch.matmul(p_attn, value), p_attn, scores  # 以元组打包返回，第一个参数为query的注意力表示，第二个参数为注意力张量;"
   ]
  },
  {
   "cell_type": "code",
   "execution_count": 412,
   "id": "4a57d6ee-f22a-4e91-b4bc-a95c95249e23",
   "metadata": {},
   "outputs": [
    {
     "name": "stdout",
     "output_type": "stream",
     "text": [
      "位置编码矩阵维度为: torch.Size([2, 4, 512])\n"
     ]
    },
    {
     "data": {
      "text/plain": [
       "tensor([[[-1.9221e+01,  2.0218e+01, -3.5614e+01,  ..., -0.0000e+00,\n",
       "          -1.4718e+01,  0.0000e+00],\n",
       "         [-9.6464e+00,  5.1620e+01,  5.3298e+00,  ...,  7.4651e+00,\n",
       "          -1.8371e+01, -1.1467e+01],\n",
       "         [ 1.1541e+01, -2.5358e+01,  1.6100e+01,  ..., -1.5181e+01,\n",
       "           2.3075e+01,  1.3414e+01],\n",
       "         [-4.2936e+00, -3.4626e+01,  1.9130e+00,  ...,  0.0000e+00,\n",
       "          -1.4203e+01,  4.6532e-02]],\n",
       "\n",
       "        [[-5.2249e+00, -2.8227e+01,  1.6559e+01,  ...,  4.3212e+00,\n",
       "           0.0000e+00,  0.0000e+00],\n",
       "         [-1.6177e+00,  3.0373e+01, -1.3975e+01,  ...,  3.2996e+01,\n",
       "           2.0931e+01,  1.3214e+01],\n",
       "         [-3.8285e+01, -9.2017e+00,  1.7551e+01,  ...,  1.2297e+01,\n",
       "          -7.6976e+00,  3.1566e+01],\n",
       "         [-6.0962e+00, -0.0000e+00, -2.4370e+01,  ..., -1.8433e+01,\n",
       "          -1.9139e+01,  0.0000e+00]]], grad_fn=<MulBackward0>)"
      ]
     },
     "execution_count": 412,
     "metadata": {},
     "output_type": "execute_result"
    }
   ],
   "source": [
    "print(\"位置编码矩阵维度为:\", pe_result.size())\n",
    "pe_result"
   ]
  },
  {
   "cell_type": "code",
   "execution_count": 413,
   "id": "bc42abf8-7875-4810-9405-161deecd0251",
   "metadata": {},
   "outputs": [],
   "source": [
    "query = key = value = pe_result"
   ]
  },
  {
   "cell_type": "markdown",
   "id": "80bc2a2f-a7e3-4095-9458-9b04bf951686",
   "metadata": {},
   "source": [
    "**无mask的输入：**"
   ]
  },
  {
   "cell_type": "code",
   "execution_count": 414,
   "id": "def380c9-3109-462d-9b0e-a16c3a4e1884",
   "metadata": {},
   "outputs": [],
   "source": [
    "attn, p_attn, scores_no_mask = attention(query, key, value)"
   ]
  },
  {
   "cell_type": "code",
   "execution_count": 415,
   "id": "8067561f-e99a-423a-b260-43e0d662f639",
   "metadata": {},
   "outputs": [
    {
     "name": "stdout",
     "output_type": "stream",
     "text": [
      "query的注意力表示attn的维度为: torch.Size([2, 4, 512])\n"
     ]
    },
    {
     "data": {
      "text/plain": [
       "tensor([[[-1.9221e+01,  2.0218e+01, -3.5614e+01,  ...,  0.0000e+00,\n",
       "          -1.4718e+01,  0.0000e+00],\n",
       "         [-9.6464e+00,  5.1620e+01,  5.3298e+00,  ...,  7.4651e+00,\n",
       "          -1.8371e+01, -1.1467e+01],\n",
       "         [ 1.1541e+01, -2.5358e+01,  1.6100e+01,  ..., -1.5181e+01,\n",
       "           2.3075e+01,  1.3414e+01],\n",
       "         [-4.2936e+00, -3.4626e+01,  1.9130e+00,  ...,  0.0000e+00,\n",
       "          -1.4203e+01,  4.6532e-02]],\n",
       "\n",
       "        [[-5.2249e+00, -2.8227e+01,  1.6559e+01,  ...,  4.3212e+00,\n",
       "           0.0000e+00,  0.0000e+00],\n",
       "         [-1.6177e+00,  3.0373e+01, -1.3975e+01,  ...,  3.2996e+01,\n",
       "           2.0931e+01,  1.3214e+01],\n",
       "         [-3.8285e+01, -9.2017e+00,  1.7551e+01,  ...,  1.2297e+01,\n",
       "          -7.6976e+00,  3.1566e+01],\n",
       "         [-6.0962e+00,  0.0000e+00, -2.4370e+01,  ..., -1.8433e+01,\n",
       "          -1.9139e+01,  0.0000e+00]]], grad_fn=<UnsafeViewBackward>)"
      ]
     },
     "execution_count": 415,
     "metadata": {},
     "output_type": "execute_result"
    }
   ],
   "source": [
    "print(\"query的注意力表示attn的维度为:\", attn.shape)\n",
    "attn"
   ]
  },
  {
   "cell_type": "code",
   "execution_count": 416,
   "id": "51531cc1-6789-46fd-8d10-1dfed92d7c69",
   "metadata": {},
   "outputs": [
    {
     "name": "stdout",
     "output_type": "stream",
     "text": [
      "注意力张量的维度为: torch.Size([2, 4, 4])\n"
     ]
    },
    {
     "data": {
      "text/plain": [
       "tensor([[[1., 0., 0., 0.],\n",
       "         [0., 1., 0., 0.],\n",
       "         [0., 0., 1., 0.],\n",
       "         [0., 0., 0., 1.]],\n",
       "\n",
       "        [[1., 0., 0., 0.],\n",
       "         [0., 1., 0., 0.],\n",
       "         [0., 0., 1., 0.],\n",
       "         [0., 0., 0., 1.]]], grad_fn=<SoftmaxBackward>)"
      ]
     },
     "execution_count": 416,
     "metadata": {},
     "output_type": "execute_result"
    }
   ],
   "source": [
    "print(\"注意力张量的维度为:\", p_attn.shape)\n",
    "p_attn"
   ]
  },
  {
   "cell_type": "markdown",
   "id": "396de61b-6d61-472a-b90c-b2743084b557",
   "metadata": {},
   "source": [
    "**有mask的输入:**"
   ]
  },
  {
   "cell_type": "code",
   "execution_count": 417,
   "id": "e75c41c9-27d1-4cd3-bef4-aec7ab164baa",
   "metadata": {},
   "outputs": [],
   "source": [
    "mask = Variable(torch.zeros(2, 4, 4))"
   ]
  },
  {
   "cell_type": "code",
   "execution_count": 418,
   "id": "e5a0fd86-607d-4b67-a8b9-392f28086713",
   "metadata": {},
   "outputs": [],
   "source": [
    "attn2, p_attn2, scores_with_mask = attention(query, key, value, mask=mask)"
   ]
  },
  {
   "cell_type": "code",
   "execution_count": 419,
   "id": "833f9de7-16b9-48f1-bdeb-020f67461f9e",
   "metadata": {},
   "outputs": [
    {
     "name": "stdout",
     "output_type": "stream",
     "text": [
      "query的注意力表示attn2维度为: torch.Size([2, 4, 512])\n"
     ]
    },
    {
     "data": {
      "text/plain": [
       "tensor([[[ -5.4049,   2.9635,  -3.0679,  ...,  -1.9290,  -6.0544,   0.4983],\n",
       "         [ -5.4049,   2.9635,  -3.0679,  ...,  -1.9290,  -6.0544,   0.4983],\n",
       "         [ -5.4049,   2.9635,  -3.0679,  ...,  -1.9290,  -6.0544,   0.4983],\n",
       "         [ -5.4049,   2.9635,  -3.0679,  ...,  -1.9290,  -6.0544,   0.4983]],\n",
       "\n",
       "        [[-12.8060,  -1.7641,  -1.0589,  ...,   7.7954,  -1.4764,  11.1949],\n",
       "         [-12.8060,  -1.7641,  -1.0589,  ...,   7.7954,  -1.4764,  11.1949],\n",
       "         [-12.8060,  -1.7641,  -1.0589,  ...,   7.7954,  -1.4764,  11.1949],\n",
       "         [-12.8060,  -1.7641,  -1.0589,  ...,   7.7954,  -1.4764,  11.1949]]],\n",
       "       grad_fn=<UnsafeViewBackward>)"
      ]
     },
     "execution_count": 419,
     "metadata": {},
     "output_type": "execute_result"
    }
   ],
   "source": [
    "print(\"query的注意力表示attn2维度为:\", attn2.size())\n",
    "attn2"
   ]
  },
  {
   "cell_type": "code",
   "execution_count": 420,
   "id": "327487c3-8761-4f18-86b5-b238e20f413a",
   "metadata": {},
   "outputs": [
    {
     "name": "stdout",
     "output_type": "stream",
     "text": [
      "注意力权重系数p_attn2的维度为: torch.Size([2, 4, 4])\n"
     ]
    },
    {
     "data": {
      "text/plain": [
       "tensor([[[0.2500, 0.2500, 0.2500, 0.2500],\n",
       "         [0.2500, 0.2500, 0.2500, 0.2500],\n",
       "         [0.2500, 0.2500, 0.2500, 0.2500],\n",
       "         [0.2500, 0.2500, 0.2500, 0.2500]],\n",
       "\n",
       "        [[0.2500, 0.2500, 0.2500, 0.2500],\n",
       "         [0.2500, 0.2500, 0.2500, 0.2500],\n",
       "         [0.2500, 0.2500, 0.2500, 0.2500],\n",
       "         [0.2500, 0.2500, 0.2500, 0.2500]]], grad_fn=<SoftmaxBackward>)"
      ]
     },
     "execution_count": 420,
     "metadata": {},
     "output_type": "execute_result"
    }
   ],
   "source": [
    "print(\"注意力权重系数p_attn2的维度为:\", p_attn2.shape)\n",
    "p_attn2"
   ]
  },
  {
   "cell_type": "markdown",
   "id": "cdd7696b-e4e7-4e1d-babb-e5e08c75ba09",
   "metadata": {},
   "source": [
    "**结论:**  $Q·K^T$本质上可以理解为求目标文本和源文本的相似度，形式上类似于皮尔逊相关系数或协方差矩阵\n",
    "- 注意力权重scores如果不加mask的话，第一个单词和第一个单词的相似度最高，自然得分最高，出现单位矩阵;\n",
    "- 如果注意力权重scores加了mask的话，softmax后权重是均匀分布的;"
   ]
  },
  {
   "cell_type": "code",
   "execution_count": 421,
   "id": "be823c2d-6a60-40ce-b91e-a89861e7ee51",
   "metadata": {},
   "outputs": [
    {
     "data": {
      "text/plain": [
       "tensor([[[13371.8896,   783.1205,   190.6888,    84.3016],\n",
       "         [  783.1205, 13233.7881,  -238.9447,  -285.4847],\n",
       "         [  190.6888,  -238.9447, 13383.8408,   338.2499],\n",
       "         [   84.3016,  -285.4847,   338.2499, 12662.7344]],\n",
       "\n",
       "        [[13635.4414,  -284.1069,  -114.2562,  -118.6423],\n",
       "         [ -284.1069, 12649.9473,    49.8709,   186.2396],\n",
       "         [ -114.2562,    49.8709, 13526.9111,  -560.4368],\n",
       "         [ -118.6423,   186.2396,  -560.4368, 12805.1074]]],\n",
       "       grad_fn=<DivBackward0>)"
      ]
     },
     "execution_count": 421,
     "metadata": {},
     "output_type": "execute_result"
    }
   ],
   "source": [
    "scores_no_mask"
   ]
  },
  {
   "cell_type": "code",
   "execution_count": 422,
   "id": "6e8f4b36-98bd-4715-86ca-7a3ce985d26a",
   "metadata": {},
   "outputs": [
    {
     "data": {
      "text/plain": [
       "tensor([[[13371.8896,   783.1205,   190.6888,    84.3016],\n",
       "         [  783.1205, 13233.7881,  -238.9447,  -285.4847],\n",
       "         [  190.6888,  -238.9447, 13383.8408,   338.2499],\n",
       "         [   84.3016,  -285.4847,   338.2499, 12662.7344]],\n",
       "\n",
       "        [[13635.4414,  -284.1069,  -114.2562,  -118.6423],\n",
       "         [ -284.1069, 12649.9473,    49.8709,   186.2396],\n",
       "         [ -114.2562,    49.8709, 13526.9111,  -560.4368],\n",
       "         [ -118.6423,   186.2396,  -560.4368, 12805.1074]]],\n",
       "       grad_fn=<DivBackward0>)"
      ]
     },
     "execution_count": 422,
     "metadata": {},
     "output_type": "execute_result"
    }
   ],
   "source": [
    "scores_no_mask"
   ]
  },
  {
   "cell_type": "code",
   "execution_count": 423,
   "id": "12ef5f1f-2bc3-4acc-89ad-f8c057726236",
   "metadata": {},
   "outputs": [
    {
     "data": {
      "text/plain": [
       "tensor([[[1., 0., 0., 0.],\n",
       "         [0., 1., 0., 0.],\n",
       "         [0., 0., 1., 0.],\n",
       "         [0., 0., 0., 1.]],\n",
       "\n",
       "        [[1., 0., 0., 0.],\n",
       "         [0., 1., 0., 0.],\n",
       "         [0., 0., 1., 0.],\n",
       "         [0., 0., 0., 1.]]], grad_fn=<SoftmaxBackward>)"
      ]
     },
     "execution_count": 423,
     "metadata": {},
     "output_type": "execute_result"
    }
   ],
   "source": [
    "Func.softmax(scores_no_mask, dim=-1)"
   ]
  },
  {
   "cell_type": "code",
   "execution_count": 424,
   "id": "ae0d95fa-b242-411d-895e-c9d808ebd53e",
   "metadata": {},
   "outputs": [
    {
     "data": {
      "text/plain": [
       "tensor([[[-1.0000e+09, -1.0000e+09, -1.0000e+09, -1.0000e+09],\n",
       "         [-1.0000e+09, -1.0000e+09, -1.0000e+09, -1.0000e+09],\n",
       "         [-1.0000e+09, -1.0000e+09, -1.0000e+09, -1.0000e+09],\n",
       "         [-1.0000e+09, -1.0000e+09, -1.0000e+09, -1.0000e+09]],\n",
       "\n",
       "        [[-1.0000e+09, -1.0000e+09, -1.0000e+09, -1.0000e+09],\n",
       "         [-1.0000e+09, -1.0000e+09, -1.0000e+09, -1.0000e+09],\n",
       "         [-1.0000e+09, -1.0000e+09, -1.0000e+09, -1.0000e+09],\n",
       "         [-1.0000e+09, -1.0000e+09, -1.0000e+09, -1.0000e+09]]],\n",
       "       grad_fn=<MaskedFillBackward0>)"
      ]
     },
     "execution_count": 424,
     "metadata": {},
     "output_type": "execute_result"
    }
   ],
   "source": [
    "scores_with_mask"
   ]
  },
  {
   "cell_type": "code",
   "execution_count": 425,
   "id": "190ccc44-7094-43f2-8ddd-aa8516299995",
   "metadata": {},
   "outputs": [
    {
     "data": {
      "text/plain": [
       "tensor([[[0.2500, 0.2500, 0.2500, 0.2500],\n",
       "         [0.2500, 0.2500, 0.2500, 0.2500],\n",
       "         [0.2500, 0.2500, 0.2500, 0.2500],\n",
       "         [0.2500, 0.2500, 0.2500, 0.2500]],\n",
       "\n",
       "        [[0.2500, 0.2500, 0.2500, 0.2500],\n",
       "         [0.2500, 0.2500, 0.2500, 0.2500],\n",
       "         [0.2500, 0.2500, 0.2500, 0.2500],\n",
       "         [0.2500, 0.2500, 0.2500, 0.2500]]], grad_fn=<SoftmaxBackward>)"
      ]
     },
     "execution_count": 425,
     "metadata": {},
     "output_type": "execute_result"
    }
   ],
   "source": [
    "Func.softmax(scores_with_mask, dim=-1)"
   ]
  },
  {
   "cell_type": "markdown",
   "id": "06a07709-75b9-4604-b9a2-4b3d630805a5",
   "metadata": {},
   "source": [
    "- 显然，模型初始化注意力张量都为$\\frac{1}{4}$，然后根据模型的预测值和样本真实值计算损失值，利用BP算法误差反向传播更新权重系数，相似度较高者权重增大，反之降低;[Softmax详解](https://www.cnblogs.com/alexanderkun/p/8098781.html)"
   ]
  },
  {
   "cell_type": "markdown",
   "id": "9a87855f-1551-4e58-a536-6925803e83a7",
   "metadata": {},
   "source": [
    "### 2.2.3 多头注意力机制\n",
    "\n",
    "- 从多个角度取提取事物的特征，即每个头都想获得一组Q、K和V进行注意力机制计算，所以它主要作用于词嵌入向量的最后一维(d_model，本文为512)，将每个头获得的输入送至注意力机制中就形成多头注意力机制;\n",
    "- 这种结构设计能让每个注意力机制去优化每个词汇的不同特征部分，从而均衡一种注意力机制可能产生的偏差，让词义拥有来自更多元的表达，实验表明可以提升模型效果;"
   ]
  },
  {
   "cell_type": "markdown",
   "id": "b989eefd-65f4-4de2-a1e1-9b30e12e2a8f",
   "metadata": {},
   "source": [
    "<center><img src=\"images/多头注意力.png\" style=\"zoom: 70%\">"
   ]
  },
  {
   "cell_type": "markdown",
   "id": "8b3f8dfd-2cfd-473f-8515-0fea090e4d91",
   "metadata": {},
   "source": [
    "**view()和transpose对比:**"
   ]
  },
  {
   "cell_type": "code",
   "execution_count": 426,
   "id": "b36ebf3d-b42a-4c4d-bc87-2a3596ba98e7",
   "metadata": {},
   "outputs": [
    {
     "name": "stdout",
     "output_type": "stream",
     "text": [
      "data的维度为: torch.Size([2, 2, 2])\n"
     ]
    },
    {
     "data": {
      "text/plain": [
       "tensor([[[0, 1],\n",
       "         [2, 3]],\n",
       "\n",
       "        [[4, 5],\n",
       "         [6, 7]]])"
      ]
     },
     "execution_count": 426,
     "metadata": {},
     "output_type": "execute_result"
    }
   ],
   "source": [
    "data = torch.arange(8).reshape(2, 2, 2)  # 2个矩阵组成，每个矩阵的维度为2*2;\n",
    "print(\"data的维度为:\", data.shape)\n",
    "data"
   ]
  },
  {
   "cell_type": "code",
   "execution_count": 427,
   "id": "844c09e6-2c94-4006-803f-4b3012b7894b",
   "metadata": {},
   "outputs": [
    {
     "data": {
      "text/plain": [
       "tensor([[[0, 1],\n",
       "         [4, 5]],\n",
       "\n",
       "        [[2, 3],\n",
       "         [6, 7]]])"
      ]
     },
     "execution_count": 427,
     "metadata": {},
     "output_type": "execute_result"
    }
   ],
   "source": [
    "data.transpose(0, 1)"
   ]
  },
  {
   "cell_type": "code",
   "execution_count": 428,
   "id": "471c73b1-2d14-4fb1-b0fe-b227eb9dae45",
   "metadata": {},
   "outputs": [
    {
     "name": "stdout",
     "output_type": "stream",
     "text": [
      "位置编码维度为: torch.Size([2, 4, 512])\n"
     ]
    },
    {
     "data": {
      "text/plain": [
       "tensor([[[-1.9221e+01,  2.0218e+01, -3.5614e+01,  ..., -0.0000e+00,\n",
       "          -1.4718e+01,  0.0000e+00],\n",
       "         [-9.6464e+00,  5.1620e+01,  5.3298e+00,  ...,  7.4651e+00,\n",
       "          -1.8371e+01, -1.1467e+01],\n",
       "         [ 1.1541e+01, -2.5358e+01,  1.6100e+01,  ..., -1.5181e+01,\n",
       "           2.3075e+01,  1.3414e+01],\n",
       "         [-4.2936e+00, -3.4626e+01,  1.9130e+00,  ...,  0.0000e+00,\n",
       "          -1.4203e+01,  4.6532e-02]],\n",
       "\n",
       "        [[-5.2249e+00, -2.8227e+01,  1.6559e+01,  ...,  4.3212e+00,\n",
       "           0.0000e+00,  0.0000e+00],\n",
       "         [-1.6177e+00,  3.0373e+01, -1.3975e+01,  ...,  3.2996e+01,\n",
       "           2.0931e+01,  1.3214e+01],\n",
       "         [-3.8285e+01, -9.2017e+00,  1.7551e+01,  ...,  1.2297e+01,\n",
       "          -7.6976e+00,  3.1566e+01],\n",
       "         [-6.0962e+00, -0.0000e+00, -2.4370e+01,  ..., -1.8433e+01,\n",
       "          -1.9139e+01,  0.0000e+00]]], grad_fn=<MulBackward0>)"
      ]
     },
     "execution_count": 428,
     "metadata": {},
     "output_type": "execute_result"
    }
   ],
   "source": [
    "print(\"位置编码维度为:\", pe_result.shape)\n",
    "pe_result"
   ]
  },
  {
   "cell_type": "code",
   "execution_count": 429,
   "id": "87c05720-1bc8-46c1-86cf-7800cefa86b3",
   "metadata": {},
   "outputs": [
    {
     "data": {
      "text/plain": [
       "torch.Size([2, 8, 4, 64])"
      ]
     },
     "execution_count": 429,
     "metadata": {},
     "output_type": "execute_result"
    }
   ],
   "source": [
    "# 使用reshape进行编码: 先进行三维扩展四维，并交换1、2维;\n",
    "multi = pe_result.reshape(2, 4, 8, 64).transpose(1, 2)\n",
    "multi.shape"
   ]
  },
  {
   "cell_type": "code",
   "execution_count": 430,
   "id": "539bc9ee-c39f-42bb-a9f6-e57c97e15205",
   "metadata": {},
   "outputs": [
    {
     "data": {
      "text/plain": [
       "tensor([[[-1.9221e+01,  2.0218e+01, -3.5614e+01,  ..., -0.0000e+00,\n",
       "          -1.4718e+01,  0.0000e+00],\n",
       "         [-9.6464e+00,  5.1620e+01,  5.3298e+00,  ...,  7.4651e+00,\n",
       "          -1.8371e+01, -1.1467e+01],\n",
       "         [ 1.1541e+01, -2.5358e+01,  1.6100e+01,  ..., -1.5181e+01,\n",
       "           2.3075e+01,  1.3414e+01],\n",
       "         [-4.2936e+00, -3.4626e+01,  1.9130e+00,  ...,  0.0000e+00,\n",
       "          -1.4203e+01,  4.6532e-02]],\n",
       "\n",
       "        [[-5.2249e+00, -2.8227e+01,  1.6559e+01,  ...,  4.3212e+00,\n",
       "           0.0000e+00,  0.0000e+00],\n",
       "         [-1.6177e+00,  3.0373e+01, -1.3975e+01,  ...,  3.2996e+01,\n",
       "           2.0931e+01,  1.3214e+01],\n",
       "         [-3.8285e+01, -9.2017e+00,  1.7551e+01,  ...,  1.2297e+01,\n",
       "          -7.6976e+00,  3.1566e+01],\n",
       "         [-6.0962e+00, -0.0000e+00, -2.4370e+01,  ..., -1.8433e+01,\n",
       "          -1.9139e+01,  0.0000e+00]]], grad_fn=<ViewBackward>)"
      ]
     },
     "execution_count": 430,
     "metadata": {},
     "output_type": "execute_result"
    }
   ],
   "source": [
    "multi.transpose(1, 2).reshape(2, -1, 512)"
   ]
  },
  {
   "cell_type": "code",
   "execution_count": 431,
   "id": "f9a08593-1dc3-47d0-8f87-c516fbaeb5b1",
   "metadata": {},
   "outputs": [
    {
     "data": {
      "text/plain": [
       "tensor([[[-1.9221e+01,  2.0218e+01, -3.5614e+01,  ..., -0.0000e+00,\n",
       "          -1.4718e+01,  0.0000e+00],\n",
       "         [-9.6464e+00,  5.1620e+01,  5.3298e+00,  ...,  7.4651e+00,\n",
       "          -1.8371e+01, -1.1467e+01],\n",
       "         [ 1.1541e+01, -2.5358e+01,  1.6100e+01,  ..., -1.5181e+01,\n",
       "           2.3075e+01,  1.3414e+01],\n",
       "         [-4.2936e+00, -3.4626e+01,  1.9130e+00,  ...,  0.0000e+00,\n",
       "          -1.4203e+01,  4.6532e-02]],\n",
       "\n",
       "        [[-5.2249e+00, -2.8227e+01,  1.6559e+01,  ...,  4.3212e+00,\n",
       "           0.0000e+00,  0.0000e+00],\n",
       "         [-1.6177e+00,  3.0373e+01, -1.3975e+01,  ...,  3.2996e+01,\n",
       "           2.0931e+01,  1.3214e+01],\n",
       "         [-3.8285e+01, -9.2017e+00,  1.7551e+01,  ...,  1.2297e+01,\n",
       "          -7.6976e+00,  3.1566e+01],\n",
       "         [-6.0962e+00, -0.0000e+00, -2.4370e+01,  ..., -1.8433e+01,\n",
       "          -1.9139e+01,  0.0000e+00]]], grad_fn=<ViewBackward>)"
      ]
     },
     "execution_count": 431,
     "metadata": {},
     "output_type": "execute_result"
    }
   ],
   "source": [
    "multi.transpose(1, 2).view(2, -1, 512)"
   ]
  },
  {
   "cell_type": "code",
   "execution_count": 432,
   "id": "8feeecd7-252d-4044-aaa0-d8316568a699",
   "metadata": {},
   "outputs": [
    {
     "data": {
      "text/plain": [
       "tensor([[[-1.9221e+01,  2.0218e+01, -3.5614e+01,  ..., -0.0000e+00,\n",
       "          -1.4718e+01,  0.0000e+00],\n",
       "         [-9.6464e+00,  5.1620e+01,  5.3298e+00,  ...,  7.4651e+00,\n",
       "          -1.8371e+01, -1.1467e+01],\n",
       "         [ 1.1541e+01, -2.5358e+01,  1.6100e+01,  ..., -1.5181e+01,\n",
       "           2.3075e+01,  1.3414e+01],\n",
       "         [-4.2936e+00, -3.4626e+01,  1.9130e+00,  ...,  0.0000e+00,\n",
       "          -1.4203e+01,  4.6532e-02]],\n",
       "\n",
       "        [[-5.2249e+00, -2.8227e+01,  1.6559e+01,  ...,  4.3212e+00,\n",
       "           0.0000e+00,  0.0000e+00],\n",
       "         [-1.6177e+00,  3.0373e+01, -1.3975e+01,  ...,  3.2996e+01,\n",
       "           2.0931e+01,  1.3214e+01],\n",
       "         [-3.8285e+01, -9.2017e+00,  1.7551e+01,  ...,  1.2297e+01,\n",
       "          -7.6976e+00,  3.1566e+01],\n",
       "         [-6.0962e+00, -0.0000e+00, -2.4370e+01,  ..., -1.8433e+01,\n",
       "          -1.9139e+01,  0.0000e+00]]], grad_fn=<ViewBackward>)"
      ]
     },
     "execution_count": 432,
     "metadata": {},
     "output_type": "execute_result"
    }
   ],
   "source": [
    "multi.transpose(1, 2).contiguous().view(2, -1, 512)"
   ]
  },
  {
   "cell_type": "markdown",
   "id": "6c7612c6-4721-43b5-895e-ecde8ff7b58a",
   "metadata": {},
   "source": [
    "**多头注意力代码实现：**"
   ]
  },
  {
   "cell_type": "code",
   "execution_count": 433,
   "id": "53a517d5-cfed-493e-a05b-e344c2e55137",
   "metadata": {},
   "outputs": [],
   "source": [
    "# 先导入用于深度拷贝的工具包；\n",
    "from copy import deepcopy\n",
    "\n",
    "# 定义一个克隆函数，因为再多头注意力机制的实现中，用到多个结构相同的线性层;\n",
    "def clones(module, N):  # 使用clones函数将它们一同初始化在一个网络层列表对象中，之后的结构也会用到该函数;\n",
    "    \"\"\"\n",
    "    module: 要克隆的目标网络层;\n",
    "    N: 需要克隆的数量;\n",
    "    \"\"\"\n",
    "    return nn.ModuleList([deepcopy(module) for _ in range(N)])"
   ]
  },
  {
   "cell_type": "code",
   "execution_count": 434,
   "id": "323a2470-3329-4709-a4d3-1894d93cb7bd",
   "metadata": {},
   "outputs": [],
   "source": [
    "class MultiHeadedAttention(nn.Module):\n",
    "    \n",
    "    def __init__(self, head, embedding_dim, dropout=0.1):\n",
    "        \"\"\"\n",
    "        head: 代表头数;\n",
    "        embedding_dim: 词嵌入维度;\n",
    "        dropout: 进行Dropout操作时置0比率，默认为0.1;\n",
    "        \"\"\"\n",
    "        super(MultiHeadedAttention, self).__init__()\n",
    "        \n",
    "        # 1.首先使用assert语句判断head能否被d_model整除，这是因为我们之后要为每个头分配等量的词特征，也就是embedding_dim / head(结果为浮点数);\n",
    "        assert embedding_dim % head == 0\n",
    "        self.d_k = embedding_dim // head  # 获得每个头的词向量维度d_k;\n",
    "        self.head = head\n",
    "        \n",
    "        # 2. 获得线性层对象，通过nn的Linear实例化，它的内部变换矩阵是embedding_dim * embedding_dim，然后使用clones克隆4个(多头注意力中Q、K和C各需1个，最后拼接还需要1个);\n",
    "        self.linears = clones(nn.Linear(in_features=embedding_dim, out_features=embedding_dim), 4)\n",
    "        self.attn = None  # 它代表最后的注意力张量，现在还没有结果所以为None\n",
    "        \n",
    "        # 3. 最后设置self.dropout对象，通过nn.Dropout()实例化而来，置0比率为传进来的参数dropout;\n",
    "        self.dropout = nn.Dropout(p=dropout)\n",
    "        \n",
    "    def forward(self, query, key, value, mask=None):\n",
    "        # 1.如果掩码张量mask存在;\n",
    "        if mask is not None:\n",
    "            mask = mask.unsqueeze(0)  # 维度扩展;\n",
    "        \n",
    "        # 获得样本数(batch_size)，如(2, 4, 512)\n",
    "        batch_size = query.size(0)\n",
    "        \n",
    "        # 2.多头处理环节: (2, 4, 512) --> (2, 4, 8, 64)【8个头,每个头64个词向量】 --> (2, 8, 4, 64)【交换head和seq_len，让seq_len与d_model相邻，以捕捉句子特征】;\n",
    "        # attention可以知道, q·k -> 权重系数`V --> Q有8个头、K有8个头、V有8个头，这24个头一块进入attention，内部通过矩阵进行并行计算，返回注意力机制atten和注意力权重p_atten;\n",
    "        query, key, value = [model(x).view(batch_size, -1, self.head, self.d_k).transpose(1, 2) for model, x in zip(self.linears, (query, key, value))]  # view相当于reshape(三维扩四维);\n",
    "        \n",
    "        # 3.得到每个头的输入后，接下里就是将它们传入到attention中，直接调用之前定义好的attention函数，同时也将mask和dropout传入其中;\n",
    "        x, self.attn, _ = attention(query, key, value, mask, dropout=self.dropout)  # 注意力机制x形状(2, 8, 4, 64)和注意力权重self.attn形状(1, 8, 4, 4) \n",
    "        \n",
    "        # 4.形状变化: 注意力机制x的维度(2, 8, 4, 64)  --> (2, 4, 8, 64)【这步感觉多此一举】 --> (2, 4, 512)【四维转三维，将每个注意力机制的结果进行concat】;\n",
    "        x = x.transpose(1, 2).contiguous().view(batch_size, -1, self.head*self.d_k)  # 使用transpose后导致Tensor内存不连续，需要先使用contiguous()后才能调用view();\n",
    "        return self.linears[-1](x)  # 使用线性层linears中的最后一个线性层对输入进行线性变换得到最终的多头注意结构输出;"
   ]
  },
  {
   "cell_type": "code",
   "execution_count": 435,
   "id": "eb12c465-a328-4d36-a23d-7e1673fe6d87",
   "metadata": {},
   "outputs": [
    {
     "data": {
      "text/plain": [
       "tensor([[[-1.9221e+01,  2.0218e+01, -3.5614e+01,  ..., -0.0000e+00,\n",
       "          -1.4718e+01,  0.0000e+00],\n",
       "         [-9.6464e+00,  5.1620e+01,  5.3298e+00,  ...,  7.4651e+00,\n",
       "          -1.8371e+01, -1.1467e+01],\n",
       "         [ 1.1541e+01, -2.5358e+01,  1.6100e+01,  ..., -1.5181e+01,\n",
       "           2.3075e+01,  1.3414e+01],\n",
       "         [-4.2936e+00, -3.4626e+01,  1.9130e+00,  ...,  0.0000e+00,\n",
       "          -1.4203e+01,  4.6532e-02]],\n",
       "\n",
       "        [[-5.2249e+00, -2.8227e+01,  1.6559e+01,  ...,  4.3212e+00,\n",
       "           0.0000e+00,  0.0000e+00],\n",
       "         [-1.6177e+00,  3.0373e+01, -1.3975e+01,  ...,  3.2996e+01,\n",
       "           2.0931e+01,  1.3214e+01],\n",
       "         [-3.8285e+01, -9.2017e+00,  1.7551e+01,  ...,  1.2297e+01,\n",
       "          -7.6976e+00,  3.1566e+01],\n",
       "         [-6.0962e+00, -0.0000e+00, -2.4370e+01,  ..., -1.8433e+01,\n",
       "          -1.9139e+01,  0.0000e+00]]], grad_fn=<MulBackward0>)"
      ]
     },
     "execution_count": 435,
     "metadata": {},
     "output_type": "execute_result"
    }
   ],
   "source": [
    "pe_result"
   ]
  },
  {
   "cell_type": "code",
   "execution_count": 436,
   "id": "5a9ef213-6b5c-4f22-9a3f-e4d426d2b30d",
   "metadata": {},
   "outputs": [],
   "source": [
    "head = 8\n",
    "embedding_dim = 512\n",
    "dropout = 0.2\n",
    "query = key = value = pe_result"
   ]
  },
  {
   "cell_type": "code",
   "execution_count": 437,
   "id": "2d13c65d-144c-4ff6-a9f2-48f8eeea5066",
   "metadata": {},
   "outputs": [
    {
     "data": {
      "text/plain": [
       "torch.Size([8, 4, 4])"
      ]
     },
     "execution_count": 437,
     "metadata": {},
     "output_type": "execute_result"
    }
   ],
   "source": [
    "mask = Variable(torch.zeros(8, 4, 4))\n",
    "mask.size()"
   ]
  },
  {
   "cell_type": "code",
   "execution_count": 438,
   "id": "6a0227d0-7b6f-4df1-889b-d95f0ee6c65f",
   "metadata": {},
   "outputs": [
    {
     "data": {
      "text/plain": [
       "tensor([[[ 4.5454e+00,  1.4785e+00,  2.0292e-01,  ..., -4.6643e+00,\n",
       "          -1.8024e-01,  5.0463e+00],\n",
       "         [ 7.0716e+00, -1.3778e+00, -7.3712e-01,  ..., -2.9570e+00,\n",
       "           1.8880e+00,  6.4102e+00],\n",
       "         [ 6.8207e+00,  3.1957e+00,  3.4607e+00,  ..., -1.9079e+00,\n",
       "           1.3916e+00,  3.8457e+00],\n",
       "         [ 3.8134e+00, -2.5439e+00, -1.1837e-01,  ..., -4.5817e-01,\n",
       "           5.7996e+00,  2.8409e+00]],\n",
       "\n",
       "        [[ 1.4176e+00, -2.7654e-01,  1.6552e+00,  ...,  2.1283e+00,\n",
       "           8.0450e+00,  8.1718e+00],\n",
       "         [ 2.4917e+00, -2.5911e+00, -5.1180e-01,  ...,  3.1481e+00,\n",
       "           6.4397e+00,  6.0377e+00],\n",
       "         [-3.6229e+00, -1.8522e+00, -1.9622e-02,  ..., -9.9256e-01,\n",
       "           7.8289e+00,  5.2802e+00],\n",
       "         [-6.3364e-03, -1.3188e+00, -5.1163e-01,  ..., -1.1694e+00,\n",
       "           5.3540e+00,  3.8013e+00]]], grad_fn=<AddBackward0>)"
      ]
     },
     "execution_count": 438,
     "metadata": {},
     "output_type": "execute_result"
    }
   ],
   "source": [
    "mha = MultiHeadedAttention(head, embedding_dim, dropout=dropout)\n",
    "mha_res = mha(query, key, value, mask)\n",
    "mha_res"
   ]
  },
  {
   "cell_type": "markdown",
   "id": "cf982141-66d4-4c14-b839-0f50920a4bfd",
   "metadata": {},
   "source": [
    "### 2.2.4 前馈全连接层\n",
    "\n",
    "- 在Transformer中，前馈全连接层就是具有两层线性层的全练级网络，考虑注意力机制可能对特征提取不够充分，增加两层网络来增强模型的拟合能力;\n",
    "- relu激活函数: max(0, x), 优点为x>0时梯度下降快(导数为1)，缺点是当x<0时可能存在大量神经元死亡，进而引起模型欠拟合，改进一般使用LeakyRelu, max(0.2x, x);\n",
    "\n",
    "<center><img src=\"images/relu.png\"/ style=\"zoom: 70%\"></center>"
   ]
  },
  {
   "cell_type": "code",
   "execution_count": 439,
   "id": "ac38819b-23f1-4368-b27d-0b407f26f759",
   "metadata": {},
   "outputs": [],
   "source": [
    "class PositionwiseFeedForward(nn.Module):\n",
    "    \n",
    "    def __init__(self, d_model, d_ff, dropout=0.1):\n",
    "        \"\"\"\n",
    "        d_model: 词嵌入维度，它是第一个线性层的输入，同时也是第二个线性层的输出，即我们希望输入通过前馈前连接层后输入和输出维度不变;\n",
    "        d_ff: 线性变换维度，它是第二个线性层的输入，同时也是第一个线性层的输入;\n",
    "        dropout: 置0比率;\n",
    "        \"\"\"\n",
    "        super(PositionwiseFeedForward, self).__init__()\n",
    "        \n",
    "        # 首先实例化两个线性层对象;\n",
    "        self.w1 = nn.Linear(in_features=d_model, out_features=d_ff)\n",
    "        self.w2 = nn.Linear(in_features=d_ff, out_features=d_model)\n",
    "        # 使用nn.Dropout()实例化对象self.dropout;\n",
    "        self.dropout = nn.Dropout(dropout)\n",
    "    \n",
    "    def forward(self, x):\n",
    "        \"\"\"\n",
    "        x: 代表上一层的输出，编码器中为【多头注意力机制】，解码器中为【?】;\n",
    "        \"\"\"\n",
    "        # 输出为经过两层线性网络变换的特征表示;\n",
    "        return self.w2(self.dropout(Func.relu(self.w1(x))))  # 多头注意力机制 -> 第一层全连接神经网络(w1, 线性求和+激活函数-relu) -> Dropout(随机失活, 单独一层) -> 第二层全连接神经网络(w2);"
   ]
  },
  {
   "cell_type": "code",
   "execution_count": 440,
   "id": "2d4f1f15-94b5-4f8d-9e49-1c208ef029f3",
   "metadata": {},
   "outputs": [],
   "source": [
    "d_model= 512\n",
    "d_ff= 64\n",
    "dropout = 0.2"
   ]
  },
  {
   "cell_type": "code",
   "execution_count": 441,
   "id": "a61099e7-8599-4a58-9ae8-c60c475e10a9",
   "metadata": {},
   "outputs": [
    {
     "name": "stdout",
     "output_type": "stream",
     "text": [
      "多头注意力机制维度为: torch.Size([2, 4, 512])\n"
     ]
    },
    {
     "data": {
      "text/plain": [
       "tensor([[[ 4.5454e+00,  1.4785e+00,  2.0292e-01,  ..., -4.6643e+00,\n",
       "          -1.8024e-01,  5.0463e+00],\n",
       "         [ 7.0716e+00, -1.3778e+00, -7.3712e-01,  ..., -2.9570e+00,\n",
       "           1.8880e+00,  6.4102e+00],\n",
       "         [ 6.8207e+00,  3.1957e+00,  3.4607e+00,  ..., -1.9079e+00,\n",
       "           1.3916e+00,  3.8457e+00],\n",
       "         [ 3.8134e+00, -2.5439e+00, -1.1837e-01,  ..., -4.5817e-01,\n",
       "           5.7996e+00,  2.8409e+00]],\n",
       "\n",
       "        [[ 1.4176e+00, -2.7654e-01,  1.6552e+00,  ...,  2.1283e+00,\n",
       "           8.0450e+00,  8.1718e+00],\n",
       "         [ 2.4917e+00, -2.5911e+00, -5.1180e-01,  ...,  3.1481e+00,\n",
       "           6.4397e+00,  6.0377e+00],\n",
       "         [-3.6229e+00, -1.8522e+00, -1.9622e-02,  ..., -9.9256e-01,\n",
       "           7.8289e+00,  5.2802e+00],\n",
       "         [-6.3364e-03, -1.3188e+00, -5.1163e-01,  ..., -1.1694e+00,\n",
       "           5.3540e+00,  3.8013e+00]]], grad_fn=<AddBackward0>)"
      ]
     },
     "execution_count": 441,
     "metadata": {},
     "output_type": "execute_result"
    }
   ],
   "source": [
    "print(\"多头注意力机制维度为:\", mha_res.shape)\n",
    "x = mha_res\n",
    "x"
   ]
  },
  {
   "cell_type": "code",
   "execution_count": 442,
   "id": "bcd6b68e-1cea-4bdd-ae39-c43869d2f244",
   "metadata": {},
   "outputs": [
    {
     "data": {
      "text/plain": [
       "tensor([[[ 0.0723, -1.3044,  1.0354,  ..., -0.3223,  0.4824, -0.7122],\n",
       "         [ 1.0235, -1.3052,  0.0929,  ...,  0.2794,  0.3948, -1.1433],\n",
       "         [ 0.1457, -1.2966, -0.2368,  ...,  0.5628,  0.1130, -2.1850],\n",
       "         [ 0.0122, -0.4525,  0.8617,  ..., -1.4876, -0.0861, -0.9704]],\n",
       "\n",
       "        [[-0.2309,  0.8554, -0.7055,  ...,  0.0381,  1.9542, -1.1616],\n",
       "         [-1.6203,  1.2558, -0.5508,  ..., -0.2630,  0.4384, -1.1096],\n",
       "         [-0.5554, -0.0162, -0.4471,  ..., -0.8670,  0.1153, -0.3344],\n",
       "         [-0.3050, -0.2370, -1.1100,  ...,  0.7357, -0.1435,  0.6275]]],\n",
       "       grad_fn=<AddBackward0>)"
      ]
     },
     "execution_count": 442,
     "metadata": {},
     "output_type": "execute_result"
    }
   ],
   "source": [
    "ff = PositionwiseFeedForward(d_model, d_ff, dropout)\n",
    "# 多头注意力机制的输出作为前馈全连接神经网络的输入;\n",
    "ff_res = ff(x)\n",
    "ff_res"
   ]
  },
  {
   "cell_type": "markdown",
   "id": "fd8c04e7-f243-498e-8ed5-e264913b5a19",
   "metadata": {},
   "source": [
    "### 2.2.5 规范化层\n",
    "\n",
    "- 随着网络层数的增加，通过多层的计算后参数可能开始出现过大或过小的情况，这样可能会导致学习过程出现异常，模型可能收敛非常的慢. 因此都会在一定层数后接规范化层进行数值的规范化，使其特征数值在合理范围内;\n",
    "- [数值标准化](https://blog.csdn.net/Orange_Spotty_Cat/article/details/80312154)\n",
    "- [keepdim资料](https://blog.csdn.net/qq_36810398/article/details/104845401)"
   ]
  },
  {
   "cell_type": "code",
   "execution_count": 443,
   "id": "835599cc-5d9b-4a2d-8236-1ab1a14c72cd",
   "metadata": {},
   "outputs": [
    {
     "data": {
      "text/plain": [
       "tensor([[[ 0.0723, -1.3044,  1.0354,  ..., -0.3223,  0.4824, -0.7122],\n",
       "         [ 1.0235, -1.3052,  0.0929,  ...,  0.2794,  0.3948, -1.1433],\n",
       "         [ 0.1457, -1.2966, -0.2368,  ...,  0.5628,  0.1130, -2.1850],\n",
       "         [ 0.0122, -0.4525,  0.8617,  ..., -1.4876, -0.0861, -0.9704]],\n",
       "\n",
       "        [[-0.2309,  0.8554, -0.7055,  ...,  0.0381,  1.9542, -1.1616],\n",
       "         [-1.6203,  1.2558, -0.5508,  ..., -0.2630,  0.4384, -1.1096],\n",
       "         [-0.5554, -0.0162, -0.4471,  ..., -0.8670,  0.1153, -0.3344],\n",
       "         [-0.3050, -0.2370, -1.1100,  ...,  0.7357, -0.1435,  0.6275]]],\n",
       "       grad_fn=<AddBackward0>)"
      ]
     },
     "execution_count": 443,
     "metadata": {},
     "output_type": "execute_result"
    }
   ],
   "source": [
    "# 获取上一层(这里为前馈全连接层)的结果;\n",
    "ff_res"
   ]
  },
  {
   "cell_type": "code",
   "execution_count": 444,
   "id": "cc1dda3d-5bf0-402b-ba6c-00c47db051e0",
   "metadata": {},
   "outputs": [
    {
     "data": {
      "text/plain": [
       "tensor([[ 0.0131,  0.0210, -0.0168, -0.0152],\n",
       "        [-0.0563, -0.0539, -0.0053, -0.0527]], grad_fn=<MeanBackward1>)"
      ]
     },
     "execution_count": 444,
     "metadata": {},
     "output_type": "execute_result"
    }
   ],
   "source": [
    "ff_res.mean(dim=-1)"
   ]
  },
  {
   "cell_type": "code",
   "execution_count": 445,
   "id": "1d117ccd-bdea-4fc8-9dee-9afc8091623c",
   "metadata": {},
   "outputs": [
    {
     "data": {
      "text/plain": [
       "tensor([[[ 0.0131],\n",
       "         [ 0.0210],\n",
       "         [-0.0168],\n",
       "         [-0.0152]],\n",
       "\n",
       "        [[-0.0563],\n",
       "         [-0.0539],\n",
       "         [-0.0053],\n",
       "         [-0.0527]]], grad_fn=<MeanBackward1>)"
      ]
     },
     "execution_count": 445,
     "metadata": {},
     "output_type": "execute_result"
    }
   ],
   "source": [
    "mean = torch.mean(ff_res, dim=-1, keepdim=True)  # 计算结果是否保持与原数据维度一致;\n",
    "mean"
   ]
  },
  {
   "cell_type": "code",
   "execution_count": 446,
   "id": "84f119b4-ab58-420c-b946-cd0d24c90e8a",
   "metadata": {},
   "outputs": [
    {
     "data": {
      "text/plain": [
       "tensor(0.0131, grad_fn=<MeanBackward0>)"
      ]
     },
     "execution_count": 446,
     "metadata": {},
     "output_type": "execute_result"
    }
   ],
   "source": [
    "ff_res[0][0].mean()  # 可以看到，mean是对最后一维的每一行求取平均值, 标准差同理;"
   ]
  },
  {
   "cell_type": "code",
   "execution_count": 447,
   "id": "d610bcac-424b-4643-8b04-a72b488b40d4",
   "metadata": {},
   "outputs": [
    {
     "data": {
      "text/plain": [
       "tensor([[[1.3828],\n",
       "         [1.3228],\n",
       "         [1.3054],\n",
       "         [1.0046]],\n",
       "\n",
       "        [[1.3187],\n",
       "         [1.1489],\n",
       "         [0.8664],\n",
       "         [0.9086]]], grad_fn=<StdBackward>)"
      ]
     },
     "execution_count": 447,
     "metadata": {},
     "output_type": "execute_result"
    }
   ],
   "source": [
    "std = ff_res.std(dim=-1, keepdim=True)\n",
    "std"
   ]
  },
  {
   "cell_type": "code",
   "execution_count": 448,
   "id": "9b486416-b928-47b0-8ada-997dad96952e",
   "metadata": {},
   "outputs": [
    {
     "data": {
      "text/plain": [
       "torch.Size([512])"
      ]
     },
     "execution_count": 448,
     "metadata": {},
     "output_type": "execute_result"
    }
   ],
   "source": [
    "torch.ones(512).shape"
   ]
  },
  {
   "cell_type": "code",
   "execution_count": 449,
   "id": "7b41eea7-a95b-4183-92f9-9707e442afa6",
   "metadata": {},
   "outputs": [],
   "source": [
    "class LayerNorm(nn.Module):\n",
    "    \n",
    "    def __init__(self, features, eps=1e-6):\n",
    "        \"\"\"\n",
    "        features: 词嵌入维度;\n",
    "        eps: 一个足够小的数，用于规范化公式中防止分母为0，默认为1e-6;\n",
    "        \"\"\"\n",
    "        super(LayerNorm, self).__init__()\n",
    "        # 根据features形状初始化两个参数张量a2和b2，其中第一个初始化为全1张量，第二个初始化为全0张量，它们都是规范化层的参数;\n",
    "        # 因为直接对上一层的结果进行规范化公式计算，将改变结果的正常表征，因为需要有参数作为调节因子，使其既能满足规范化要求，又不改变目标表征，最后使用nn.Parameter()封装，表明它们是模型的参数;\n",
    "        self.a2 = nn.Parameter(torch.ones(features))\n",
    "        self.b2 = nn.Parameter(torch.zeros(features))\n",
    "        self.eps = eps\n",
    "        \n",
    "    def forward(self, x):\n",
    "        \"\"\"\n",
    "        x: 上一层输出，这里维度为(2, 4, 512)\n",
    "        \"\"\"\n",
    "        # 首先分别对输入变量x求取其最后一维均值和标准差，并保持输出维度与输入维度一致，根据规范化公式，用x减去均值除以标准差获得规范化结果;\n",
    "        # 最后对规范化结果乘以缩放系数，即a2，*表示点乘，即对应位置(element-wise)进行乘法操作，加上位移参数b2即可;\n",
    "        mean = x.mean(dim=-1, keepdim=True)  # keepdim保证x与mean维度一致，便于计算;\n",
    "        std = x.std(dim=-1, keepdim=True)\n",
    "        return self.a2 * (x - mean) / (std + self.eps) + self.b2  # 规范化后的特征表示, y = a2*x + b2"
   ]
  },
  {
   "cell_type": "code",
   "execution_count": 450,
   "id": "d0f7afea-0fd3-4f93-88cc-f4f0930ac5e8",
   "metadata": {},
   "outputs": [
    {
     "data": {
      "text/plain": [
       "tensor([[[ 0.0723, -1.3044,  1.0354,  ..., -0.3223,  0.4824, -0.7122],\n",
       "         [ 1.0235, -1.3052,  0.0929,  ...,  0.2794,  0.3948, -1.1433],\n",
       "         [ 0.1457, -1.2966, -0.2368,  ...,  0.5628,  0.1130, -2.1850],\n",
       "         [ 0.0122, -0.4525,  0.8617,  ..., -1.4876, -0.0861, -0.9704]],\n",
       "\n",
       "        [[-0.2309,  0.8554, -0.7055,  ...,  0.0381,  1.9542, -1.1616],\n",
       "         [-1.6203,  1.2558, -0.5508,  ..., -0.2630,  0.4384, -1.1096],\n",
       "         [-0.5554, -0.0162, -0.4471,  ..., -0.8670,  0.1153, -0.3344],\n",
       "         [-0.3050, -0.2370, -1.1100,  ...,  0.7357, -0.1435,  0.6275]]],\n",
       "       grad_fn=<AddBackward0>)"
      ]
     },
     "execution_count": 450,
     "metadata": {},
     "output_type": "execute_result"
    }
   ],
   "source": [
    "features = d_model = 512\n",
    "eps = 1e-6\n",
    "ff_res"
   ]
  },
  {
   "cell_type": "code",
   "execution_count": 451,
   "id": "b9a8a015-7c81-4737-83e1-3ae93383acad",
   "metadata": {},
   "outputs": [
    {
     "name": "stdout",
     "output_type": "stream",
     "text": [
      "规范化数据维度为: torch.Size([2, 4, 512])\n"
     ]
    },
    {
     "data": {
      "text/plain": [
       "tensor([[[ 0.0428, -0.9527,  0.7393,  ..., -0.2425,  0.3394, -0.5245],\n",
       "         [ 0.7579, -1.0026,  0.0544,  ...,  0.1954,  0.2826, -0.8802],\n",
       "         [ 0.1244, -0.9805, -0.1686,  ...,  0.4439,  0.0994, -1.6610],\n",
       "         [ 0.0272, -0.4353,  0.8729,  ..., -1.4657, -0.0706, -0.9509]],\n",
       "\n",
       "        [[-0.1324,  0.6913, -0.4923,  ...,  0.0716,  1.5245, -0.8382],\n",
       "         [-1.3634,  1.1399, -0.4325,  ..., -0.1820,  0.4285, -0.9188],\n",
       "         [-0.6350, -0.0126, -0.5100,  ..., -0.9947,  0.1392, -0.3799],\n",
       "         [-0.2777, -0.2028, -1.1636,  ...,  0.8676, -0.1000,  0.7486]]],\n",
       "       grad_fn=<AddBackward0>)"
      ]
     },
     "execution_count": 451,
     "metadata": {},
     "output_type": "execute_result"
    }
   ],
   "source": [
    "ln = LayerNorm(features, eps)\n",
    "ln_res = ln(ff_res)\n",
    "print(\"规范化数据维度为:\", ln_res.shape)\n",
    "ln_res"
   ]
  },
  {
   "cell_type": "markdown",
   "id": "8d5fbf4d-24a2-4224-8256-e1351d2b48cc",
   "metadata": {},
   "source": [
    "### 2.2.6 子层连接结构\n",
    "\n",
    "- 子层(多头注意力层 或 前馈全连接层) + 规范化层 + 残差连接  ---> 子层连接结构，注意NormLayer的调用顺序，AI学术界和工业界实现的不同;\n",
    "<center><img src=\"images/子层连接.png\"></center>"
   ]
  },
  {
   "cell_type": "code",
   "execution_count": 452,
   "id": "d54b37f0-8c3b-456b-9342-ff8125b31fbc",
   "metadata": {},
   "outputs": [],
   "source": [
    "class SublayerConnection(nn.Module):\n",
    "    \n",
    "    def __init__(self, size, dropout=0.1):\n",
    "        \"\"\"\n",
    "        size: 词嵌入维度大小，本文为512;\n",
    "        dropout: 本身是对模型结构中的节点数进行随机抑制的比率，又因为节点被抑制等效就是该节点的输出都是0，因此也可以把dropout看作是对输出矩阵的随机置0比率;\n",
    "        \"\"\"\n",
    "        super(SublayerConnection, self).__init__()\n",
    "        self.norm = LayerNorm(size)\n",
    "        self.dropout = nn.Dropout(dropout)\n",
    "    \n",
    "    def forward(self, x, sublayer):\n",
    "        \"\"\"\n",
    "        x: 上一层的输出;\n",
    "        sublayer: 可以为多头注意力机制，也可以为前馈全连接层;\n",
    "        - 我们首先对输出进行【规范化】，然后将结果传给子层处理，之后再就是对子层进行dropout，随机停止一些网络中神经元的作用，以防止过拟合;\n",
    "        - 最后进行add操作，因为存在跳跃连接，所以是将输入x与dropout后的子层输出结果相加作为最终的子层连接输出;\n",
    "        \"\"\"\n",
    "        return x + self.dropout(sublayer(self.norm(x)))  # 此处也可以先sublayer(x)，然后再进行norm，不过实践证明先进行规范化，结果比较好;"
   ]
  },
  {
   "cell_type": "markdown",
   "id": "12a3db07-03fc-4a1a-a885-1d52e99a0b41",
   "metadata": {},
   "source": [
    "**假设子层连接结构为:【多头注意力机制】** 当然也可以是【前馈全连接层】"
   ]
  },
  {
   "cell_type": "code",
   "execution_count": 453,
   "id": "7e2ac07c-45ca-4006-a44e-f204568cce33",
   "metadata": {},
   "outputs": [],
   "source": [
    "size = d_model = 512\n",
    "dropout = 0.2\n",
    "head = 8"
   ]
  },
  {
   "cell_type": "code",
   "execution_count": 454,
   "id": "0247b1f8-9cee-440b-9322-a4bd25b36033",
   "metadata": {},
   "outputs": [],
   "source": [
    "# 令x为位置编码器的输出;\n",
    "x = pe_result\n",
    "mask = Variable(torch.zeros(8, 4, 4))\n",
    "\n",
    "# 假设子层中的sublayer装的是【多头注意力层】，实例化这个类;\n",
    "self_attn = MultiHeadedAttention(head, embedding_dim=d_model)\n",
    "sublayer = lambda x: self_attn(x, x, x, mask)  # 多头注意力机制中的forward需要传入Q、K和v，本文它们相等，都为x;  <----------------------"
   ]
  },
  {
   "cell_type": "code",
   "execution_count": 455,
   "id": "ea848d9e-8b6f-4191-98a5-5aafec678419",
   "metadata": {},
   "outputs": [
    {
     "name": "stdout",
     "output_type": "stream",
     "text": [
      "多头注意力子层连接维度为: torch.Size([2, 4, 512])\n"
     ]
    },
    {
     "data": {
      "text/plain": [
       "tensor([[[-19.0334,  20.0690, -35.3658,  ...,   0.0000, -14.8214,   0.2369],\n",
       "         [ -9.6464,  51.6200,   5.3298,  ...,   7.5282, -18.5414, -11.2597],\n",
       "         [ 11.6604, -25.7212,  16.1153,  ..., -15.0654,  22.8480,  13.6013],\n",
       "         [ -4.2206, -34.6264,   2.0717,  ...,   0.0855, -14.3244,   0.3817]],\n",
       "\n",
       "        [[ -5.2543, -28.7055,  16.4648,  ...,   4.3212,  -0.3059,   0.0000],\n",
       "         [ -1.6008,  29.9341, -14.0521,  ...,  32.9964,  20.7097,  13.1087],\n",
       "         [-38.2667,  -9.2017,  17.5509,  ...,  12.2534,  -8.0119,  31.3497],\n",
       "         [ -6.0465,  -0.1994, -24.3770,  ..., -18.6302, -19.3878,  -0.1278]]],\n",
       "       grad_fn=<AddBackward0>)"
      ]
     },
     "execution_count": 455,
     "metadata": {},
     "output_type": "execute_result"
    }
   ],
   "source": [
    "sc = SublayerConnection(size, dropout)\n",
    "sc_res = sc(x, sublayer)\n",
    "print(\"多头注意力子层连接维度为:\", sc_res.shape)\n",
    "sc_res"
   ]
  },
  {
   "cell_type": "markdown",
   "id": "35ae6d86-69f6-42d3-ab89-d8b591309ec4",
   "metadata": {},
   "source": [
    "### 2.2.7 编码器层\n",
    "\n",
    "- 作为编码器的基本组成单元，每个编码器层完成一次对输入的特征提取过程，即编码过程，因此它的输出就是整个编码层的特征表示;\n",
    "<center><img src=\"images/编码器层.png\"></center>"
   ]
  },
  {
   "cell_type": "code",
   "execution_count": 456,
   "id": "32aa3728-67b4-4a79-8065-9353258a04bb",
   "metadata": {},
   "outputs": [],
   "source": [
    "class EncoderLayer(nn.Module):\n",
    "    \n",
    "    def __init__(self, size, self_attn, feed_forward, dropout):\n",
    "        \"\"\"\n",
    "        size: 词嵌入维度，它也将作为我们编码器层的大小;\n",
    "        self_attn: 之后我们将传入多头自注意力子层实例化对象，并且是自注意力机制;\n",
    "        feed_forward: 之后我们将传入前馈全连接层的实例化对象;\n",
    "        dropout: 置0比率;\n",
    "        \"\"\"\n",
    "        super(EncoderLayer, self).__init__()\n",
    "        self.self_attn = self_attn\n",
    "        self.feed_forward = feed_forward\n",
    "        \n",
    "        # 由图可知: 编码器层由2个子层连接结构组成，所以使用clones函数进行克隆;\n",
    "        self.sublayer = clones(SublayerConnection(size, dropout), 2)\n",
    "        self.size = size\n",
    "        \n",
    "    def forward(self, x, mask):\n",
    "        \"\"\"\n",
    "        x: 上一层输出，并不一定为原始输入，因为编码器由多个编码器层组成，上一编码器层的输出是下一编码器层的输入;\n",
    "        mask: 掩码张量;\n",
    "        \"\"\"\n",
    "        # 按图施工: 首先通过第一个子层连接结构，其中包括多头自注意力子层，然后通过第二个子层连接结构，其中包含前馈全连接子层，最后返回结果;\n",
    "        x = self.sublayer[0](x, lambda x: self.self_attn(x, x, x, mask))  # 子层连接结构对象(x, sublayer),这里只是将两步并一步了;\n",
    "        return self.sublayer[1](x, self.feed_forward)"
   ]
  },
  {
   "cell_type": "code",
   "execution_count": 457,
   "id": "c3a68e20-d845-4fd0-98cd-614e98c83a28",
   "metadata": {},
   "outputs": [],
   "source": [
    "size = 512\n",
    "head = 8\n",
    "d_model = 512\n",
    "d_ff = 64\n",
    "x = pe_result\n",
    "dropout = 0.2\n",
    "self_attn = MultiHeadedAttention(head, d_model)\n",
    "ff = PositionwiseFeedForward(d_model, d_ff, dropout)\n",
    "mask = Variable(torch.zeros(8, 4, 4))"
   ]
  },
  {
   "cell_type": "code",
   "execution_count": 458,
   "id": "dcb15e49-8c64-41ac-ada8-c65fc6b78f04",
   "metadata": {},
   "outputs": [
    {
     "name": "stdout",
     "output_type": "stream",
     "text": [
      "torch.Size([2, 4, 512])\n"
     ]
    },
    {
     "data": {
      "text/plain": [
       "tensor([[[-1.9620e+01,  1.9672e+01, -3.5774e+01,  ...,  7.6481e-02,\n",
       "          -1.5019e+01,  3.2310e-01],\n",
       "         [-9.4051e+00,  5.1147e+01,  6.0153e+00,  ...,  7.0167e+00,\n",
       "          -1.8823e+01, -1.1103e+01],\n",
       "         [ 1.1489e+01, -2.4894e+01,  1.6160e+01,  ..., -1.5463e+01,\n",
       "           2.2519e+01,  1.3679e+01],\n",
       "         [-4.6290e+00, -3.4985e+01,  1.9901e+00,  ..., -4.1434e-01,\n",
       "          -1.4628e+01, -1.3905e-01]],\n",
       "\n",
       "        [[-5.3853e+00, -2.7772e+01,  1.6368e+01,  ...,  4.1808e+00,\n",
       "           1.7845e-01,  5.3215e-02],\n",
       "         [-1.6969e+00,  3.0937e+01, -1.3849e+01,  ...,  3.3062e+01,\n",
       "           2.1412e+01,  1.3047e+01],\n",
       "         [-3.8368e+01, -8.7209e+00,  1.7052e+01,  ...,  1.2135e+01,\n",
       "          -7.8000e+00,  3.1267e+01],\n",
       "         [-6.5568e+00,  3.4244e-01, -2.4418e+01,  ..., -1.8433e+01,\n",
       "          -1.9104e+01,  2.9948e-03]]], grad_fn=<AddBackward0>)"
      ]
     },
     "execution_count": 458,
     "metadata": {},
     "output_type": "execute_result"
    }
   ],
   "source": [
    "el = EncoderLayer(size, self_attn, ff, dropout)\n",
    "el_res = el(x, mask)\n",
    "print(el_res.shape)\n",
    "el_res"
   ]
  },
  {
   "cell_type": "markdown",
   "id": "014c8c83-e4d0-413e-890e-fdab5a643f45",
   "metadata": {},
   "source": [
    "### 2.2.8 编码器\n",
    "\n",
    "- 编码器用于对输入进行指定的特征提取过程，也称为编码，由N个编码器层堆叠而成，它的输出将作为Transformer编码器的特征提取表示，也将作为解码器输入的一部分;\n",
    "<center><img src=\"images/编码器架构.png\" style=\"zoom: 70%\"></center>"
   ]
  },
  {
   "cell_type": "code",
   "execution_count": 459,
   "id": "b9605c43-2086-43d2-835c-5c8e7040ec25",
   "metadata": {},
   "outputs": [],
   "source": [
    "class Encoder(nn.Module):\n",
    "    \n",
    "    def __init__(self, layer, N):\n",
    "        \"\"\"\n",
    "        layer: 编码器层\n",
    "        N: 编码器层个数;\n",
    "        \"\"\"\n",
    "        super(Encoder, self).__init__()\n",
    "        # 首先使用clones函数克隆N个编码器层，因为编码器层中的子层是不共享的;\n",
    "        self.layers = clones(layer, N)\n",
    "        # 再初始化一个规范化层，它将用于编码器的最后面；\n",
    "        self.norm = LayerNorm(layer.size)\n",
    "        \n",
    "    def forward(self, x, mask):\n",
    "        \"\"\"\n",
    "        x: 上一层的输出;\n",
    "        mask: 掩码张量;\n",
    "        \"\"\"\n",
    "        # 首先对我们克隆的编码器层进行循环，每次都会得到一个新的x，这个循环过程中，就相当于输出的x经过了N个编码器层的处理;\n",
    "        for layer in self.layers:\n",
    "            x = layer(x, mask)\n",
    "        return self.norm(x)  # 对最后一个输出进行规范化;"
   ]
  },
  {
   "cell_type": "code",
   "execution_count": 460,
   "id": "bbf15d4e-c85d-45dc-8e31-d95ab97ce7c6",
   "metadata": {},
   "outputs": [],
   "source": [
    "# 又因为编码器层中的子层是不共享的, 因此需要使用深度拷贝各个对象.\n",
    "c = deepcopy  # 函数变量名传递;\n",
    "size = d_model = 512\n",
    "head = 8\n",
    "d_ff = 64\n",
    "dropout = 0.2\n",
    "attn = MultiHeadedAttention(head, d_model)\n",
    "ff = PositionwiseFeedForward(d_model, d_ff, dropout)\n",
    "layer = EncoderLayer(size, c(attn), c(ff), dropout)\n",
    "\n",
    "mask = Variable(torch.zeros(8, 4, 4))"
   ]
  },
  {
   "cell_type": "code",
   "execution_count": 461,
   "id": "c4b75b8e-7296-4748-b6ef-e4a66a71fbbe",
   "metadata": {},
   "outputs": [
    {
     "name": "stdout",
     "output_type": "stream",
     "text": [
      "编码器输出维度为: torch.Size([2, 4, 512])\n"
     ]
    },
    {
     "data": {
      "text/plain": [
       "tensor([[[-0.6738,  0.9000, -1.5690,  ..., -0.0218, -0.5672, -0.0655],\n",
       "         [-0.2880,  2.0910,  0.1306,  ...,  0.2493, -0.9398, -0.6688],\n",
       "         [ 0.5243, -0.9948,  0.4835,  ..., -0.7233,  0.8722,  0.3465],\n",
       "         [-0.1194, -1.4535,  0.0832,  ..., -0.1445, -0.6366, -0.1577]],\n",
       "\n",
       "        [[-0.3236, -1.1387,  0.6497,  ...,  0.1536, -0.0375, -0.1647],\n",
       "         [-0.1613,  1.3164, -0.5883,  ...,  1.4594,  1.0174,  0.4918],\n",
       "         [-1.6645, -0.4003,  0.6674,  ...,  0.4737, -0.3653,  1.1199],\n",
       "         [-0.3938, -0.0662, -1.1084,  ..., -0.9321, -0.9553, -0.2585]]],\n",
       "       grad_fn=<AddBackward0>)"
      ]
     },
     "execution_count": 461,
     "metadata": {},
     "output_type": "execute_result"
    }
   ],
   "source": [
    "# 编码器中编码器层的个数N\n",
    "N = 6\n",
    "en = Encoder(layer, N)\n",
    "en_result = en(x, mask)\n",
    "print(\"编码器输出维度为:\", en_result.shape)\n",
    "en_result"
   ]
  },
  {
   "cell_type": "markdown",
   "id": "0bf362b1-3a60-4679-bf53-259334c737f0",
   "metadata": {},
   "source": [
    "## 2.3 解码器部分"
   ]
  },
  {
   "cell_type": "markdown",
   "id": "6d438e8e-9289-4f17-818a-cc104e2f7982",
   "metadata": {},
   "source": [
    "**解码器架构:** 解码器中的多头自注意力子层、前馈全连接层、规范化层、子层连接结构都与编码器中的实现相同，所以我们直接拿来构建解码器;\n",
    "<center><img src=\"images/解码器.png\" style=\"zoom: 80%\"/></center>\n",
    "\n",
    "- 由N个解码器组成,根据编码器结果以及上一次预测结果，对下一次可能出现的”值“进行特征表示;\n",
    "- 每个解码器由3个子层连接结构组成;\n",
    "- 第1个子层连接结构包括: 一个自注意力子层、规范化层和一个残差连接;\n",
    "- 第2个子层连接结构包括: 一个一般注意力子层、规范化层和一个残差连接;\n",
    "- 第3个子层连接结构包括: 一个前馈全连接子层、规范化层以及一个残差连接;"
   ]
  },
  {
   "cell_type": "markdown",
   "id": "f5ee6137-2f4d-4d36-b6f5-6c5fff9750f7",
   "metadata": {},
   "source": [
    "### 2.3.1 解码器层"
   ]
  },
  {
   "cell_type": "code",
   "execution_count": 462,
   "id": "7d360125-f2f3-4326-98c9-57c75a0c412c",
   "metadata": {},
   "outputs": [],
   "source": [
    "class DecoderLayer(nn.Module):\n",
    "    \n",
    "    def __init__(self, size, self_attn, src_attn, feed_forward, dropout):\n",
    "        \"\"\"\n",
    "        size: 词嵌入维度大小，同时也是解码器层的尺寸;\n",
    "        self_attn: 多头自注意力机制对象，也就是它需要Q==K==V;\n",
    "        src_attn: 多头注意力机制对象(常规注意力机制, K==V==Source)，注意这里Q!=K==V，但是和self_attns是同一个类;\n",
    "        feed_forward: 前馈全连接层对象;\n",
    "        dropout: 置0比率;\n",
    "        \"\"\"\n",
    "        super(DecoderLayer, self).__init__()\n",
    "        self.size = size\n",
    "        self.self_attn = self_attn\n",
    "        self.src_attn = src_attn\n",
    "        self.feed_forward = feed_forward\n",
    "        # 按图施工: 使用clones函数克隆3个子层连接对象;\n",
    "        self.sublayer = clones(SublayerConnection(size, dropout), 3)\n",
    "    \n",
    "    def forward(self, x, memory, source_mask, target_mask):\n",
    "        \"\"\"\n",
    "        x: 上一层的输出x;\n",
    "        memory: 来自编码器层的语义存储变量;\n",
    "        source_mask: 源数据掩码张量——遮掩source中没有意义字符而产生的注意力机制，不是用来防止信息泄露;\n",
    "        target_mask: 目标数据掩码张量——避免模型使用未来信息，解码第二个字符的时候，遮住第二个以及第二个以后的字符;\n",
    "        \"\"\"\n",
    "        m = memory  # 起个别名方便使用;\n",
    "        \n",
    "        # 将x传入第一个子层连接结构，包括x和self_attn，因为是自注意力机制，所以Q==K==V都是x，最后一个参数为target掩码张量，这时要对目标数据进行遮掩，因为此时模型可能还没有生成任何目标数据;\n",
    "        # 例如，解码器准备生成第一个字符或词汇时，我们其实已经传入了第一个字符以便计算损失，但是我们不希望在生成第一个字符时模型能够利用这个信息，所以我们会将其遮掩，其它位置字符同理;\n",
    "        x = self.sublayer[0](x, lambda x: self.self_attn(x, x, x, target_mask))\n",
    "        \n",
    "        # 接着进入第二个子层，它包括常规注意力机制，q是输入x，k和v是编码层输出memory,同样需要传入source_mask，但是此时进行数据遮掩不是为了防止泄露，而是遮蔽掉对结果没有意义的字符而产生的注意力值;\n",
    "        x = self.sublayer[1](x, lambda x: self.src_attn(x, m, m, source_mask))\n",
    "        \n",
    "        return self.sublayer[2](x, self.feed_forward)  # 最后一个为前馈全连接子层，经过它处理后就可以返回结果;"
   ]
  },
  {
   "cell_type": "code",
   "execution_count": 463,
   "id": "0f74c05e-ba92-48e7-a800-aa6b3b5e9d92",
   "metadata": {},
   "outputs": [],
   "source": [
    "# 类的实例化参数与解码器层类似, 相比多出了src_attn, 但是和self_attn是同一个类.\n",
    "head = 8\n",
    "size = d_model = 512\n",
    "d_ff = 64\n",
    "dropout = 0.2\n",
    "self_attn = src_attn = MultiHeadedAttention(head, d_model, dropout)\n",
    "\n",
    "# 前馈全连接层也和之前相同 \n",
    "ff = PositionwiseFeedForward(d_model, d_ff, dropout)"
   ]
  },
  {
   "cell_type": "code",
   "execution_count": 464,
   "id": "966d4265-342d-4769-8afe-c0a43de0b371",
   "metadata": {},
   "outputs": [],
   "source": [
    "# x是来自目标数据的词嵌入表示, 但形式和源数据的词嵌入表示相同, 这里使用per充当.\n",
    "x = pe_result\n",
    "\n",
    "# memory是来自编码器的输出\n",
    "memory = en_result\n",
    "\n",
    "# 实际中source_mask和target_mask并不相同, 这里为了方便计算使他们都为mask\n",
    "mask = Variable(torch.zeros(8, 4, 4))\n",
    "source_mask = target_mask = mask"
   ]
  },
  {
   "cell_type": "code",
   "execution_count": 465,
   "id": "51720ab5-f18d-46ed-97c2-815c2e7f8239",
   "metadata": {},
   "outputs": [
    {
     "name": "stdout",
     "output_type": "stream",
     "text": [
      "解码器维度为: torch.Size([2, 4, 512])\n"
     ]
    },
    {
     "data": {
      "text/plain": [
       "tensor([[[-1.9634e+01,  2.0005e+01, -3.6108e+01,  ..., -7.8646e-02,\n",
       "          -1.4554e+01, -5.5281e-02],\n",
       "         [-1.0436e+01,  5.1505e+01,  5.1627e+00,  ...,  7.4946e+00,\n",
       "          -1.8472e+01, -1.2014e+01],\n",
       "         [ 1.1665e+01, -2.5713e+01,  1.6380e+01,  ..., -1.5390e+01,\n",
       "           2.2917e+01,  1.3414e+01],\n",
       "         [-4.5220e+00, -3.4918e+01,  2.1933e+00,  ..., -4.3565e-01,\n",
       "          -1.4097e+01,  2.0553e-02]],\n",
       "\n",
       "        [[-5.3453e+00, -2.8431e+01,  1.5881e+01,  ...,  4.8878e+00,\n",
       "           2.6241e-01,  6.6340e-02],\n",
       "         [-1.7977e+00,  2.9813e+01, -1.5465e+01,  ...,  3.3242e+01,\n",
       "           2.1088e+01,  1.3673e+01],\n",
       "         [-3.8443e+01, -8.8799e+00,  1.6435e+01,  ...,  1.2044e+01,\n",
       "          -7.1671e+00,  3.1796e+01],\n",
       "         [-5.9810e+00, -2.9684e-01, -2.5138e+01,  ..., -1.7824e+01,\n",
       "          -1.8866e+01,  2.2767e-01]]], grad_fn=<AddBackward0>)"
      ]
     },
     "execution_count": 465,
     "metadata": {},
     "output_type": "execute_result"
    }
   ],
   "source": [
    "dl = DecoderLayer(size, self_attn, src_attn, ff, dropout)\n",
    "dl_result = dl(x, memory, source_mask, target_mask)\n",
    "print(\"解码器维度为:\", dl_result.shape)\n",
    "dl_result"
   ]
  },
  {
   "cell_type": "markdown",
   "id": "73a7dfa5-a31b-4bf6-a3e0-4015d3294c84",
   "metadata": {},
   "source": [
    "### 2.3.2 解码器\n",
    "\n",
    "- 根据编码器的结果以及上一次预测的结果，对下一次可能出现的”值“进行特征表示;"
   ]
  },
  {
   "cell_type": "code",
   "execution_count": 466,
   "id": "2b7a81fa-a53e-4c76-9ae0-3249694688f6",
   "metadata": {},
   "outputs": [],
   "source": [
    "class Decoder(nn.Module):\n",
    "    \n",
    "    def __init__(self, layer, N):\n",
    "        \"\"\"\n",
    "        layer: 解码器层layer;\n",
    "        N: 解码器层数;\n",
    "        \"\"\"\n",
    "        super(Decoder, self).__init__()\n",
    "        self.layers = clones(layer, N)\n",
    "        self.norm = LayerNorm(layer.size)\n",
    "    \n",
    "    def forward(self, x, memory, source_mask, target_mask):\n",
    "        \"\"\"\n",
    "        x: 目标数据的嵌入表示;\n",
    "        memory: 编码器层的输出;\n",
    "        source_mask: 源数据掩码张量;\n",
    "        target_mask: 目标数据掩码张量;\n",
    "        \"\"\"\n",
    "        for layer in self.layers:\n",
    "            x = layer(x, memory, source_mask, target_mask)\n",
    "        return self.norm(x)"
   ]
  },
  {
   "cell_type": "code",
   "execution_count": 467,
   "id": "e279fedb-75bd-4599-be14-6788a227f867",
   "metadata": {},
   "outputs": [],
   "source": [
    "size = d_model = 512\n",
    "head = 8\n",
    "d_ff = 64\n",
    "dropout = 0.2\n",
    "c = deepcopy\n",
    "attn = MultiHeadedAttention(head, d_model)\n",
    "ff = PositionwiseFeedForward(d_model, d_ff, dropout)\n",
    "layer = DecoderLayer(d_model, c(attn), c(attn), c(ff), dropout)\n",
    "N = 8"
   ]
  },
  {
   "cell_type": "code",
   "execution_count": 468,
   "id": "86948dfa-e62f-49b8-bbbd-52da280da2ea",
   "metadata": {},
   "outputs": [],
   "source": [
    "# 输入参数与解码器层的输入参数相同\n",
    "x = pe_result\n",
    "memory = en_result\n",
    "mask = Variable(torch.zeros(8, 4, 4))\n",
    "source_mask = target_mask = mask"
   ]
  },
  {
   "cell_type": "code",
   "execution_count": 469,
   "id": "fae3b1a2-b993-488a-85df-529471e08fc4",
   "metadata": {},
   "outputs": [
    {
     "name": "stdout",
     "output_type": "stream",
     "text": [
      "tensor([[[-1.0288e+00,  7.9586e-01, -1.6304e+00,  ...,  1.3461e-01,\n",
      "          -7.3037e-01, -7.5862e-02],\n",
      "         [-7.1253e-01,  2.1080e+00, -8.3682e-04,  ...,  3.4620e-01,\n",
      "          -9.0647e-01, -6.4139e-01],\n",
      "         [ 2.6765e-01, -1.1123e+00,  4.0753e-01,  ..., -6.6268e-01,\n",
      "           6.9025e-01,  2.2177e-01],\n",
      "         [-3.8170e-01, -1.6045e+00,  2.9447e-02,  ...,  1.7267e-01,\n",
      "          -6.4763e-01,  7.6805e-03]],\n",
      "\n",
      "        [[-4.1730e-01, -1.2233e+00,  5.2410e-01,  ...,  1.1728e-01,\n",
      "           1.3746e-01,  2.0265e-01],\n",
      "         [-2.0403e-01,  1.1395e+00, -6.1110e-01,  ...,  1.4709e+00,\n",
      "           9.7688e-01,  6.1895e-01],\n",
      "         [-1.8178e+00, -6.9258e-01,  4.9342e-01,  ...,  3.8056e-01,\n",
      "          -3.1564e-01,  1.3152e+00],\n",
      "         [-4.1606e-01, -2.5305e-01, -1.1489e+00,  ..., -6.9553e-01,\n",
      "          -7.8539e-01, -9.9142e-02]]], grad_fn=<AddBackward0>)\n",
      "torch.Size([2, 4, 512])\n"
     ]
    }
   ],
   "source": [
    "de = Decoder(layer, N)\n",
    "de_result = de(x, memory, source_mask, target_mask)\n",
    "print(de_result)\n",
    "print(de_result.shape)"
   ]
  },
  {
   "cell_type": "markdown",
   "id": "33266bcb-f615-41e9-ad39-2cdb50d17b85",
   "metadata": {},
   "source": [
    "## 2.4 输出部分\n",
    "\n",
    "<center><img src=\"images/输出.png\"/></center>\n",
    "\n",
    "**线性层:** 维度转换，将解码器的输出通过线性变换得到指定维度的输出;\n",
    "\n",
    "**Softmax层:** 使最后一维向量中的数值缩放至0-1概率值域内，并且它们之和为1;"
   ]
  },
  {
   "cell_type": "code",
   "execution_count": 470,
   "id": "accb1b3c-3202-441d-a0af-562c6808116b",
   "metadata": {},
   "outputs": [],
   "source": [
    "# 将线性层和Softmax层一块实现，因为二者的共同目标是生成最后的结构，所以起名Generator(生成器类)\n",
    "class Generator(nn.Module):\n",
    "    \n",
    "    def __init__(self, d_model, vocab_size):\n",
    "        \"\"\"\n",
    "        d_model: 词嵌入维度;\n",
    "        vocab_size: 词表大小;\n",
    "        \"\"\"\n",
    "        super(Generator, self).__init__()\n",
    "        self.project = nn.Linear(in_features=d_model, out_features=vocab_size)\n",
    "    \n",
    "    def forward(self, x):  # x维度(2, 4, 512)\n",
    "        return Func.log_softmax(self.project(x), dim=-1)  # log_softmax对softmax取对数，又因为对数函数是递增函数，所以对最终我们取最大概率值没有影响;"
   ]
  },
  {
   "cell_type": "code",
   "execution_count": 471,
   "id": "17286566-8b2b-4b8f-af31-226bb39d3e09",
   "metadata": {},
   "outputs": [
    {
     "name": "stdout",
     "output_type": "stream",
     "text": [
      "torch.Size([128, 30])\n"
     ]
    },
    {
     "data": {
      "text/plain": [
       "torch.Size([128, 30])"
      ]
     },
     "execution_count": 471,
     "metadata": {},
     "output_type": "execute_result"
    }
   ],
   "source": [
    "m = nn.Linear(20, 30)\n",
    "input_ = torch.randn(128, 20)\n",
    "output = m(input_)\n",
    "print(output.size())\n",
    "torch.Size([128, 30])"
   ]
  },
  {
   "cell_type": "code",
   "execution_count": 472,
   "id": "f9fc73c2-2086-460a-b092-eeacf8f4d736",
   "metadata": {},
   "outputs": [],
   "source": [
    "# 词嵌入维度是512维\n",
    "d_model = 512\n",
    "\n",
    "# 词表大小是1000\n",
    "vocab_size = 1000"
   ]
  },
  {
   "cell_type": "code",
   "execution_count": 473,
   "id": "5f5655cd-0a54-4d26-a87d-946f6441fec1",
   "metadata": {},
   "outputs": [],
   "source": [
    "# 输入x是上一层网络的输出, 我们使用来自解码器层的输出\n",
    "x = de_result"
   ]
  },
  {
   "cell_type": "code",
   "execution_count": 474,
   "id": "6baa5aae-77de-4a26-b383-be759ee761d5",
   "metadata": {},
   "outputs": [
    {
     "name": "stdout",
     "output_type": "stream",
     "text": [
      "tensor([[[-7.4273, -7.4148, -7.1140,  ..., -7.6937, -6.2275, -7.4361],\n",
      "         [-6.9946, -6.3856, -6.6160,  ..., -8.3125, -6.9479, -6.1869],\n",
      "         [-8.0726, -7.2154, -7.1976,  ..., -6.3218, -7.8890, -7.3546],\n",
      "         [-7.5909, -7.9640, -7.4035,  ..., -6.8910, -6.8208, -6.4526]],\n",
      "\n",
      "        [[-6.7083, -7.6180, -6.5526,  ..., -7.0618, -7.8949, -6.9173],\n",
      "         [-7.1916, -6.7910, -6.8326,  ..., -7.5698, -6.6562, -5.8982],\n",
      "         [-7.0456, -7.2352, -6.7513,  ..., -6.6061, -7.5766, -6.7845],\n",
      "         [-7.8212, -7.1772, -7.0787,  ..., -7.7695, -6.9362, -7.2129]]],\n",
      "       grad_fn=<LogSoftmaxBackward>)\n",
      "torch.Size([2, 4, 1000])\n"
     ]
    }
   ],
   "source": [
    "gen = Generator(d_model, vocab_size)\n",
    "gen_result = gen(x)\n",
    "print(gen_result)\n",
    "print(gen_result.shape)"
   ]
  },
  {
   "cell_type": "markdown",
   "id": "5660af68-d227-4389-aba3-e60c4970715f",
   "metadata": {},
   "source": [
    "## 2.5 模型构建"
   ]
  },
  {
   "cell_type": "markdown",
   "id": "7d69d2ca-108b-41f6-b401-29dd7d8c50af",
   "metadata": {},
   "source": [
    "### 2.5.1 编码器-解码器代码实现"
   ]
  },
  {
   "cell_type": "code",
   "execution_count": 475,
   "id": "5e4afe81-c3cc-4f0c-a522-2c09e5199b5d",
   "metadata": {},
   "outputs": [],
   "source": [
    "class EncoderDecoder(nn.Module):\n",
    "    \n",
    "    def __init__(self, encoder, decoder, source_embed, target_embed, generator):\n",
    "        \"\"\"\n",
    "        encoder: 编码器对象;\n",
    "        decoder: 解码器对象;\n",
    "        source_embed: 源数据嵌入函数;\n",
    "        target_embed: 目标数据嵌入函数;\n",
    "        generator: 输出部分的类别生成器对象;\n",
    "        \"\"\"\n",
    "        super(EncoderDecoder, self).__init__()\n",
    "        self.encoder = encoder\n",
    "        self.decoder = decoder\n",
    "        self.source_embed = source_embed\n",
    "        self.target_embed = target_embed\n",
    "        self.generator = generator\n",
    "    \n",
    "    def forward(self, source, target, source_mask, target_mask):\n",
    "        \"\"\"\n",
    "        source: 源数据;\n",
    "        target: 目标文本;\n",
    "        source_mask: 源文本掩码张量;\n",
    "        target_mask: 目标文本掩码张量;\n",
    "        \"\"\"\n",
    "        return self.generator(self.decode(self.encode(source, source_mask), source_mask, target, target_mask))\n",
    "    \n",
    "    def encode(self, source, source_mask):\n",
    "        return self.encoder(self.source_embed(source), source_mask)\n",
    "               \n",
    "    def decode(self, memory, source_mask, target, target_mask):\n",
    "        return self.decoder(self.target_embed(target), memory, source_mask, target_mask)"
   ]
  },
  {
   "cell_type": "code",
   "execution_count": 476,
   "id": "65a83fe6-f85b-4773-bb8e-8160823f6120",
   "metadata": {},
   "outputs": [],
   "source": [
    "vocab_size = 1000\n",
    "d_model = 512\n",
    "encoder = en\n",
    "decoder = de\n",
    "source_embed = nn.Embedding(vocab_size, d_model)\n",
    "target_embed = nn.Embedding(vocab_size, d_model)\n",
    "generator = gen"
   ]
  },
  {
   "cell_type": "code",
   "execution_count": 477,
   "id": "2af02f55-5714-4862-ae16-caab105dac26",
   "metadata": {},
   "outputs": [],
   "source": [
    "# 假设源数据与目标数据相同, 实际中并不相同\n",
    "source = target = Variable(torch.LongTensor([[100, 2, 421, 508], \n",
    "                                             [491, 998, 1, 221]]))\n",
    "\n",
    "# 假设src_mask与tgt_mask相同，实际中并不相同\n",
    "source_mask = target_mask = Variable(torch.zeros(8, 4, 4))"
   ]
  },
  {
   "cell_type": "code",
   "execution_count": 478,
   "id": "b79a79ec-31a8-45e4-bbbd-399f7ecf2604",
   "metadata": {},
   "outputs": [
    {
     "name": "stdout",
     "output_type": "stream",
     "text": [
      "tensor([[[-6.5014, -7.4568, -6.4987,  ..., -7.5431, -5.8225, -7.9117],\n",
      "         [-6.2604, -7.4498, -6.6647,  ..., -8.2311, -6.0392, -7.5308],\n",
      "         [-6.3932, -6.9353, -6.9357,  ..., -8.2551, -6.2692, -7.8523],\n",
      "         [-6.5668, -7.4778, -6.9121,  ..., -8.0160, -6.3230, -7.6028]],\n",
      "\n",
      "        [[-7.1714, -7.5691, -6.8896,  ..., -7.2447, -5.6983, -6.9263],\n",
      "         [-7.0463, -7.6604, -6.9950,  ..., -7.2725, -6.6778, -6.7962],\n",
      "         [-7.0982, -7.8204, -6.7338,  ..., -7.2444, -6.1184, -7.1402],\n",
      "         [-6.9304, -7.9800, -6.8657,  ..., -7.6100, -6.1050, -6.7707]]],\n",
      "       grad_fn=<LogSoftmaxBackward>)\n",
      "torch.Size([2, 4, 1000])\n"
     ]
    }
   ],
   "source": [
    "ed = EncoderDecoder(encoder, decoder, source_embed, target_embed, generator)\n",
    "ed_result = ed(source, target, source_mask, target_mask)\n",
    "print(ed_result)\n",
    "print(ed_result.shape)"
   ]
  },
  {
   "cell_type": "markdown",
   "id": "01749a3a-697f-42cc-9b32-9f1fa8e0f48c",
   "metadata": {},
   "source": [
    "### 2.5.2 Transformer模型构建"
   ]
  },
  {
   "cell_type": "code",
   "execution_count": 479,
   "id": "5462199b-b469-446a-bd9f-86174c1ad6ea",
   "metadata": {},
   "outputs": [],
   "source": [
    "def make_model(source_vocab, target_vocab, N=6, d_model=512, d_ff=2048, head=8, dropout=0.1):\n",
    "    \"\"\"\n",
    "    source_vocab: 源文本词汇总数;\n",
    "    target_vocab: 目标文本词汇总数;\n",
    "    N: 编码器和解码器堆叠数;\n",
    "    d_model: 词嵌入维度;\n",
    "    d_dd: 前馈全连接网络中变换矩阵的维度;\n",
    "    head: 多头注意力结构中的多头数;\n",
    "    dropout: 置0比率;\n",
    "    \"\"\"\n",
    "    c = deepcopy\n",
    "    \n",
    "    # 实例化多头注意力类，得到attn;\n",
    "    attn = MultiHeadedAttention(head, d_model)\n",
    "    \n",
    "    # 实例化前馈全连接类，得到对象ff;\n",
    "    ff = PositionwiseFeedForward(d_model, d_ff, dropout)\n",
    "    \n",
    "    # 实例化位置编码类，得到对象position;\n",
    "    position = PositionalEncoding(d_model, dropout)\n",
    "    \n",
    "    # 根据结构图，最外层是EncoderDecoder，在EncoderDecoder中，分别为编码器层、解码器层、源数据Embedding层和位置编码组、目标文本Embedding和位置编码以及类别生成器层;\n",
    "    # 编码器中有attention子层和前馈全连接子层; 在解码器中有两个attention子层和前馈全连接层;\n",
    "    model = EncoderDecoder(\n",
    "        Encoder(EncoderLayer(d_model, c(attn), c(ff), dropout), N),\n",
    "        Decoder(DecoderLayer(d_model, c(attn), c(attn), c(ff), dropout), N), \n",
    "        nn.Sequential(Embeddings(d_model, source_vocab), c(position)), \n",
    "        nn.Sequential(Embeddings(d_model, target_vocab), c(position)),\n",
    "        Generator(d_model, target_vocab))\n",
    "    \n",
    "    # 模型结构完成后，接下来就是初始化模型中的参数，如线性层中的变换矩阵，本文规定一旦参数的维度大于1，则会将其初始化为一个服从均匀分布的矩阵;\n",
    "    for p in model.parameters():\n",
    "        if p.dim() > 1:\n",
    "            nn.init.xavier_uniform(p)\n",
    "    return model"
   ]
  },
  {
   "cell_type": "code",
   "execution_count": 480,
   "id": "63ea4ebd-514a-43eb-8851-f156586caa9e",
   "metadata": {},
   "outputs": [
    {
     "name": "stderr",
     "output_type": "stream",
     "text": [
      "<ipython-input-479-c48d2190e768>:34: UserWarning: nn.init.xavier_uniform is now deprecated in favor of nn.init.xavier_uniform_.\n",
      "  nn.init.xavier_uniform(p)\n"
     ]
    },
    {
     "name": "stdout",
     "output_type": "stream",
     "text": [
      "EncoderDecoder(\n",
      "  (encoder): Encoder(\n",
      "    (layers): ModuleList(\n",
      "      (0): EncoderLayer(\n",
      "        (self_attn): MultiHeadedAttention(\n",
      "          (linears): ModuleList(\n",
      "            (0): Linear(in_features=512, out_features=512, bias=True)\n",
      "            (1): Linear(in_features=512, out_features=512, bias=True)\n",
      "            (2): Linear(in_features=512, out_features=512, bias=True)\n",
      "            (3): Linear(in_features=512, out_features=512, bias=True)\n",
      "          )\n",
      "          (dropout): Dropout(p=0.1, inplace=False)\n",
      "        )\n",
      "        (feed_forward): PositionwiseFeedForward(\n",
      "          (w1): Linear(in_features=512, out_features=2048, bias=True)\n",
      "          (w2): Linear(in_features=2048, out_features=512, bias=True)\n",
      "          (dropout): Dropout(p=0.1, inplace=False)\n",
      "        )\n",
      "        (sublayer): ModuleList(\n",
      "          (0): SublayerConnection(\n",
      "            (norm): LayerNorm()\n",
      "            (dropout): Dropout(p=0.1, inplace=False)\n",
      "          )\n",
      "          (1): SublayerConnection(\n",
      "            (norm): LayerNorm()\n",
      "            (dropout): Dropout(p=0.1, inplace=False)\n",
      "          )\n",
      "        )\n",
      "      )\n",
      "      (1): EncoderLayer(\n",
      "        (self_attn): MultiHeadedAttention(\n",
      "          (linears): ModuleList(\n",
      "            (0): Linear(in_features=512, out_features=512, bias=True)\n",
      "            (1): Linear(in_features=512, out_features=512, bias=True)\n",
      "            (2): Linear(in_features=512, out_features=512, bias=True)\n",
      "            (3): Linear(in_features=512, out_features=512, bias=True)\n",
      "          )\n",
      "          (dropout): Dropout(p=0.1, inplace=False)\n",
      "        )\n",
      "        (feed_forward): PositionwiseFeedForward(\n",
      "          (w1): Linear(in_features=512, out_features=2048, bias=True)\n",
      "          (w2): Linear(in_features=2048, out_features=512, bias=True)\n",
      "          (dropout): Dropout(p=0.1, inplace=False)\n",
      "        )\n",
      "        (sublayer): ModuleList(\n",
      "          (0): SublayerConnection(\n",
      "            (norm): LayerNorm()\n",
      "            (dropout): Dropout(p=0.1, inplace=False)\n",
      "          )\n",
      "          (1): SublayerConnection(\n",
      "            (norm): LayerNorm()\n",
      "            (dropout): Dropout(p=0.1, inplace=False)\n",
      "          )\n",
      "        )\n",
      "      )\n",
      "      (2): EncoderLayer(\n",
      "        (self_attn): MultiHeadedAttention(\n",
      "          (linears): ModuleList(\n",
      "            (0): Linear(in_features=512, out_features=512, bias=True)\n",
      "            (1): Linear(in_features=512, out_features=512, bias=True)\n",
      "            (2): Linear(in_features=512, out_features=512, bias=True)\n",
      "            (3): Linear(in_features=512, out_features=512, bias=True)\n",
      "          )\n",
      "          (dropout): Dropout(p=0.1, inplace=False)\n",
      "        )\n",
      "        (feed_forward): PositionwiseFeedForward(\n",
      "          (w1): Linear(in_features=512, out_features=2048, bias=True)\n",
      "          (w2): Linear(in_features=2048, out_features=512, bias=True)\n",
      "          (dropout): Dropout(p=0.1, inplace=False)\n",
      "        )\n",
      "        (sublayer): ModuleList(\n",
      "          (0): SublayerConnection(\n",
      "            (norm): LayerNorm()\n",
      "            (dropout): Dropout(p=0.1, inplace=False)\n",
      "          )\n",
      "          (1): SublayerConnection(\n",
      "            (norm): LayerNorm()\n",
      "            (dropout): Dropout(p=0.1, inplace=False)\n",
      "          )\n",
      "        )\n",
      "      )\n",
      "      (3): EncoderLayer(\n",
      "        (self_attn): MultiHeadedAttention(\n",
      "          (linears): ModuleList(\n",
      "            (0): Linear(in_features=512, out_features=512, bias=True)\n",
      "            (1): Linear(in_features=512, out_features=512, bias=True)\n",
      "            (2): Linear(in_features=512, out_features=512, bias=True)\n",
      "            (3): Linear(in_features=512, out_features=512, bias=True)\n",
      "          )\n",
      "          (dropout): Dropout(p=0.1, inplace=False)\n",
      "        )\n",
      "        (feed_forward): PositionwiseFeedForward(\n",
      "          (w1): Linear(in_features=512, out_features=2048, bias=True)\n",
      "          (w2): Linear(in_features=2048, out_features=512, bias=True)\n",
      "          (dropout): Dropout(p=0.1, inplace=False)\n",
      "        )\n",
      "        (sublayer): ModuleList(\n",
      "          (0): SublayerConnection(\n",
      "            (norm): LayerNorm()\n",
      "            (dropout): Dropout(p=0.1, inplace=False)\n",
      "          )\n",
      "          (1): SublayerConnection(\n",
      "            (norm): LayerNorm()\n",
      "            (dropout): Dropout(p=0.1, inplace=False)\n",
      "          )\n",
      "        )\n",
      "      )\n",
      "      (4): EncoderLayer(\n",
      "        (self_attn): MultiHeadedAttention(\n",
      "          (linears): ModuleList(\n",
      "            (0): Linear(in_features=512, out_features=512, bias=True)\n",
      "            (1): Linear(in_features=512, out_features=512, bias=True)\n",
      "            (2): Linear(in_features=512, out_features=512, bias=True)\n",
      "            (3): Linear(in_features=512, out_features=512, bias=True)\n",
      "          )\n",
      "          (dropout): Dropout(p=0.1, inplace=False)\n",
      "        )\n",
      "        (feed_forward): PositionwiseFeedForward(\n",
      "          (w1): Linear(in_features=512, out_features=2048, bias=True)\n",
      "          (w2): Linear(in_features=2048, out_features=512, bias=True)\n",
      "          (dropout): Dropout(p=0.1, inplace=False)\n",
      "        )\n",
      "        (sublayer): ModuleList(\n",
      "          (0): SublayerConnection(\n",
      "            (norm): LayerNorm()\n",
      "            (dropout): Dropout(p=0.1, inplace=False)\n",
      "          )\n",
      "          (1): SublayerConnection(\n",
      "            (norm): LayerNorm()\n",
      "            (dropout): Dropout(p=0.1, inplace=False)\n",
      "          )\n",
      "        )\n",
      "      )\n",
      "      (5): EncoderLayer(\n",
      "        (self_attn): MultiHeadedAttention(\n",
      "          (linears): ModuleList(\n",
      "            (0): Linear(in_features=512, out_features=512, bias=True)\n",
      "            (1): Linear(in_features=512, out_features=512, bias=True)\n",
      "            (2): Linear(in_features=512, out_features=512, bias=True)\n",
      "            (3): Linear(in_features=512, out_features=512, bias=True)\n",
      "          )\n",
      "          (dropout): Dropout(p=0.1, inplace=False)\n",
      "        )\n",
      "        (feed_forward): PositionwiseFeedForward(\n",
      "          (w1): Linear(in_features=512, out_features=2048, bias=True)\n",
      "          (w2): Linear(in_features=2048, out_features=512, bias=True)\n",
      "          (dropout): Dropout(p=0.1, inplace=False)\n",
      "        )\n",
      "        (sublayer): ModuleList(\n",
      "          (0): SublayerConnection(\n",
      "            (norm): LayerNorm()\n",
      "            (dropout): Dropout(p=0.1, inplace=False)\n",
      "          )\n",
      "          (1): SublayerConnection(\n",
      "            (norm): LayerNorm()\n",
      "            (dropout): Dropout(p=0.1, inplace=False)\n",
      "          )\n",
      "        )\n",
      "      )\n",
      "    )\n",
      "    (norm): LayerNorm()\n",
      "  )\n",
      "  (decoder): Decoder(\n",
      "    (layers): ModuleList(\n",
      "      (0): DecoderLayer(\n",
      "        (self_attn): MultiHeadedAttention(\n",
      "          (linears): ModuleList(\n",
      "            (0): Linear(in_features=512, out_features=512, bias=True)\n",
      "            (1): Linear(in_features=512, out_features=512, bias=True)\n",
      "            (2): Linear(in_features=512, out_features=512, bias=True)\n",
      "            (3): Linear(in_features=512, out_features=512, bias=True)\n",
      "          )\n",
      "          (dropout): Dropout(p=0.1, inplace=False)\n",
      "        )\n",
      "        (src_attn): MultiHeadedAttention(\n",
      "          (linears): ModuleList(\n",
      "            (0): Linear(in_features=512, out_features=512, bias=True)\n",
      "            (1): Linear(in_features=512, out_features=512, bias=True)\n",
      "            (2): Linear(in_features=512, out_features=512, bias=True)\n",
      "            (3): Linear(in_features=512, out_features=512, bias=True)\n",
      "          )\n",
      "          (dropout): Dropout(p=0.1, inplace=False)\n",
      "        )\n",
      "        (feed_forward): PositionwiseFeedForward(\n",
      "          (w1): Linear(in_features=512, out_features=2048, bias=True)\n",
      "          (w2): Linear(in_features=2048, out_features=512, bias=True)\n",
      "          (dropout): Dropout(p=0.1, inplace=False)\n",
      "        )\n",
      "        (sublayer): ModuleList(\n",
      "          (0): SublayerConnection(\n",
      "            (norm): LayerNorm()\n",
      "            (dropout): Dropout(p=0.1, inplace=False)\n",
      "          )\n",
      "          (1): SublayerConnection(\n",
      "            (norm): LayerNorm()\n",
      "            (dropout): Dropout(p=0.1, inplace=False)\n",
      "          )\n",
      "          (2): SublayerConnection(\n",
      "            (norm): LayerNorm()\n",
      "            (dropout): Dropout(p=0.1, inplace=False)\n",
      "          )\n",
      "        )\n",
      "      )\n",
      "      (1): DecoderLayer(\n",
      "        (self_attn): MultiHeadedAttention(\n",
      "          (linears): ModuleList(\n",
      "            (0): Linear(in_features=512, out_features=512, bias=True)\n",
      "            (1): Linear(in_features=512, out_features=512, bias=True)\n",
      "            (2): Linear(in_features=512, out_features=512, bias=True)\n",
      "            (3): Linear(in_features=512, out_features=512, bias=True)\n",
      "          )\n",
      "          (dropout): Dropout(p=0.1, inplace=False)\n",
      "        )\n",
      "        (src_attn): MultiHeadedAttention(\n",
      "          (linears): ModuleList(\n",
      "            (0): Linear(in_features=512, out_features=512, bias=True)\n",
      "            (1): Linear(in_features=512, out_features=512, bias=True)\n",
      "            (2): Linear(in_features=512, out_features=512, bias=True)\n",
      "            (3): Linear(in_features=512, out_features=512, bias=True)\n",
      "          )\n",
      "          (dropout): Dropout(p=0.1, inplace=False)\n",
      "        )\n",
      "        (feed_forward): PositionwiseFeedForward(\n",
      "          (w1): Linear(in_features=512, out_features=2048, bias=True)\n",
      "          (w2): Linear(in_features=2048, out_features=512, bias=True)\n",
      "          (dropout): Dropout(p=0.1, inplace=False)\n",
      "        )\n",
      "        (sublayer): ModuleList(\n",
      "          (0): SublayerConnection(\n",
      "            (norm): LayerNorm()\n",
      "            (dropout): Dropout(p=0.1, inplace=False)\n",
      "          )\n",
      "          (1): SublayerConnection(\n",
      "            (norm): LayerNorm()\n",
      "            (dropout): Dropout(p=0.1, inplace=False)\n",
      "          )\n",
      "          (2): SublayerConnection(\n",
      "            (norm): LayerNorm()\n",
      "            (dropout): Dropout(p=0.1, inplace=False)\n",
      "          )\n",
      "        )\n",
      "      )\n",
      "      (2): DecoderLayer(\n",
      "        (self_attn): MultiHeadedAttention(\n",
      "          (linears): ModuleList(\n",
      "            (0): Linear(in_features=512, out_features=512, bias=True)\n",
      "            (1): Linear(in_features=512, out_features=512, bias=True)\n",
      "            (2): Linear(in_features=512, out_features=512, bias=True)\n",
      "            (3): Linear(in_features=512, out_features=512, bias=True)\n",
      "          )\n",
      "          (dropout): Dropout(p=0.1, inplace=False)\n",
      "        )\n",
      "        (src_attn): MultiHeadedAttention(\n",
      "          (linears): ModuleList(\n",
      "            (0): Linear(in_features=512, out_features=512, bias=True)\n",
      "            (1): Linear(in_features=512, out_features=512, bias=True)\n",
      "            (2): Linear(in_features=512, out_features=512, bias=True)\n",
      "            (3): Linear(in_features=512, out_features=512, bias=True)\n",
      "          )\n",
      "          (dropout): Dropout(p=0.1, inplace=False)\n",
      "        )\n",
      "        (feed_forward): PositionwiseFeedForward(\n",
      "          (w1): Linear(in_features=512, out_features=2048, bias=True)\n",
      "          (w2): Linear(in_features=2048, out_features=512, bias=True)\n",
      "          (dropout): Dropout(p=0.1, inplace=False)\n",
      "        )\n",
      "        (sublayer): ModuleList(\n",
      "          (0): SublayerConnection(\n",
      "            (norm): LayerNorm()\n",
      "            (dropout): Dropout(p=0.1, inplace=False)\n",
      "          )\n",
      "          (1): SublayerConnection(\n",
      "            (norm): LayerNorm()\n",
      "            (dropout): Dropout(p=0.1, inplace=False)\n",
      "          )\n",
      "          (2): SublayerConnection(\n",
      "            (norm): LayerNorm()\n",
      "            (dropout): Dropout(p=0.1, inplace=False)\n",
      "          )\n",
      "        )\n",
      "      )\n",
      "      (3): DecoderLayer(\n",
      "        (self_attn): MultiHeadedAttention(\n",
      "          (linears): ModuleList(\n",
      "            (0): Linear(in_features=512, out_features=512, bias=True)\n",
      "            (1): Linear(in_features=512, out_features=512, bias=True)\n",
      "            (2): Linear(in_features=512, out_features=512, bias=True)\n",
      "            (3): Linear(in_features=512, out_features=512, bias=True)\n",
      "          )\n",
      "          (dropout): Dropout(p=0.1, inplace=False)\n",
      "        )\n",
      "        (src_attn): MultiHeadedAttention(\n",
      "          (linears): ModuleList(\n",
      "            (0): Linear(in_features=512, out_features=512, bias=True)\n",
      "            (1): Linear(in_features=512, out_features=512, bias=True)\n",
      "            (2): Linear(in_features=512, out_features=512, bias=True)\n",
      "            (3): Linear(in_features=512, out_features=512, bias=True)\n",
      "          )\n",
      "          (dropout): Dropout(p=0.1, inplace=False)\n",
      "        )\n",
      "        (feed_forward): PositionwiseFeedForward(\n",
      "          (w1): Linear(in_features=512, out_features=2048, bias=True)\n",
      "          (w2): Linear(in_features=2048, out_features=512, bias=True)\n",
      "          (dropout): Dropout(p=0.1, inplace=False)\n",
      "        )\n",
      "        (sublayer): ModuleList(\n",
      "          (0): SublayerConnection(\n",
      "            (norm): LayerNorm()\n",
      "            (dropout): Dropout(p=0.1, inplace=False)\n",
      "          )\n",
      "          (1): SublayerConnection(\n",
      "            (norm): LayerNorm()\n",
      "            (dropout): Dropout(p=0.1, inplace=False)\n",
      "          )\n",
      "          (2): SublayerConnection(\n",
      "            (norm): LayerNorm()\n",
      "            (dropout): Dropout(p=0.1, inplace=False)\n",
      "          )\n",
      "        )\n",
      "      )\n",
      "      (4): DecoderLayer(\n",
      "        (self_attn): MultiHeadedAttention(\n",
      "          (linears): ModuleList(\n",
      "            (0): Linear(in_features=512, out_features=512, bias=True)\n",
      "            (1): Linear(in_features=512, out_features=512, bias=True)\n",
      "            (2): Linear(in_features=512, out_features=512, bias=True)\n",
      "            (3): Linear(in_features=512, out_features=512, bias=True)\n",
      "          )\n",
      "          (dropout): Dropout(p=0.1, inplace=False)\n",
      "        )\n",
      "        (src_attn): MultiHeadedAttention(\n",
      "          (linears): ModuleList(\n",
      "            (0): Linear(in_features=512, out_features=512, bias=True)\n",
      "            (1): Linear(in_features=512, out_features=512, bias=True)\n",
      "            (2): Linear(in_features=512, out_features=512, bias=True)\n",
      "            (3): Linear(in_features=512, out_features=512, bias=True)\n",
      "          )\n",
      "          (dropout): Dropout(p=0.1, inplace=False)\n",
      "        )\n",
      "        (feed_forward): PositionwiseFeedForward(\n",
      "          (w1): Linear(in_features=512, out_features=2048, bias=True)\n",
      "          (w2): Linear(in_features=2048, out_features=512, bias=True)\n",
      "          (dropout): Dropout(p=0.1, inplace=False)\n",
      "        )\n",
      "        (sublayer): ModuleList(\n",
      "          (0): SublayerConnection(\n",
      "            (norm): LayerNorm()\n",
      "            (dropout): Dropout(p=0.1, inplace=False)\n",
      "          )\n",
      "          (1): SublayerConnection(\n",
      "            (norm): LayerNorm()\n",
      "            (dropout): Dropout(p=0.1, inplace=False)\n",
      "          )\n",
      "          (2): SublayerConnection(\n",
      "            (norm): LayerNorm()\n",
      "            (dropout): Dropout(p=0.1, inplace=False)\n",
      "          )\n",
      "        )\n",
      "      )\n",
      "      (5): DecoderLayer(\n",
      "        (self_attn): MultiHeadedAttention(\n",
      "          (linears): ModuleList(\n",
      "            (0): Linear(in_features=512, out_features=512, bias=True)\n",
      "            (1): Linear(in_features=512, out_features=512, bias=True)\n",
      "            (2): Linear(in_features=512, out_features=512, bias=True)\n",
      "            (3): Linear(in_features=512, out_features=512, bias=True)\n",
      "          )\n",
      "          (dropout): Dropout(p=0.1, inplace=False)\n",
      "        )\n",
      "        (src_attn): MultiHeadedAttention(\n",
      "          (linears): ModuleList(\n",
      "            (0): Linear(in_features=512, out_features=512, bias=True)\n",
      "            (1): Linear(in_features=512, out_features=512, bias=True)\n",
      "            (2): Linear(in_features=512, out_features=512, bias=True)\n",
      "            (3): Linear(in_features=512, out_features=512, bias=True)\n",
      "          )\n",
      "          (dropout): Dropout(p=0.1, inplace=False)\n",
      "        )\n",
      "        (feed_forward): PositionwiseFeedForward(\n",
      "          (w1): Linear(in_features=512, out_features=2048, bias=True)\n",
      "          (w2): Linear(in_features=2048, out_features=512, bias=True)\n",
      "          (dropout): Dropout(p=0.1, inplace=False)\n",
      "        )\n",
      "        (sublayer): ModuleList(\n",
      "          (0): SublayerConnection(\n",
      "            (norm): LayerNorm()\n",
      "            (dropout): Dropout(p=0.1, inplace=False)\n",
      "          )\n",
      "          (1): SublayerConnection(\n",
      "            (norm): LayerNorm()\n",
      "            (dropout): Dropout(p=0.1, inplace=False)\n",
      "          )\n",
      "          (2): SublayerConnection(\n",
      "            (norm): LayerNorm()\n",
      "            (dropout): Dropout(p=0.1, inplace=False)\n",
      "          )\n",
      "        )\n",
      "      )\n",
      "    )\n",
      "    (norm): LayerNorm()\n",
      "  )\n",
      "  (source_embed): Sequential(\n",
      "    (0): Embeddings(\n",
      "      (lut): Embedding(512, 11)\n",
      "    )\n",
      "    (1): PositionalEncoding(\n",
      "      (dropout): Dropout(p=0.1, inplace=False)\n",
      "    )\n",
      "  )\n",
      "  (target_embed): Sequential(\n",
      "    (0): Embeddings(\n",
      "      (lut): Embedding(512, 1000)\n",
      "    )\n",
      "    (1): PositionalEncoding(\n",
      "      (dropout): Dropout(p=0.1, inplace=False)\n",
      "    )\n",
      "  )\n",
      "  (generator): Generator(\n",
      "    (project): Linear(in_features=512, out_features=1000, bias=True)\n",
      "  )\n",
      ")\n"
     ]
    }
   ],
   "source": [
    "source_vocab = 11\n",
    "target_vocab = 1000\n",
    "my_transform_obj = make_model(source_vocab, target_vocab)\n",
    "print(my_transform_obj)"
   ]
  },
  {
   "cell_type": "code",
   "execution_count": 481,
   "id": "ef08d7e9-ceea-4673-a9f7-c8a754acc02d",
   "metadata": {},
   "outputs": [
    {
     "ename": "RuntimeError",
     "evalue": "The size of tensor a (11) must match the size of tensor b (512) at non-singleton dimension 2",
     "output_type": "error",
     "traceback": [
      "\u001b[1;31m---------------------------------------------------------------------------\u001b[0m",
      "\u001b[1;31mRuntimeError\u001b[0m                              Traceback (most recent call last)",
      "\u001b[1;32m<ipython-input-481-8fc945f4a01f>\u001b[0m in \u001b[0;36m<module>\u001b[1;34m\u001b[0m\n\u001b[0;32m      7\u001b[0m \u001b[1;33m\u001b[0m\u001b[0m\n\u001b[0;32m      8\u001b[0m \u001b[1;31m# 3 源数据张量 目标数据张量 源数据掩码张量 目标数据掩码张量\u001b[0m\u001b[1;33m\u001b[0m\u001b[1;33m\u001b[0m\u001b[1;33m\u001b[0m\u001b[0m\n\u001b[1;32m----> 9\u001b[1;33m \u001b[0mmydata\u001b[0m \u001b[1;33m=\u001b[0m \u001b[0mmy_transform_obj\u001b[0m\u001b[1;33m(\u001b[0m\u001b[0msource\u001b[0m\u001b[1;33m,\u001b[0m \u001b[0mtarget\u001b[0m\u001b[1;33m,\u001b[0m \u001b[0msource_mask\u001b[0m\u001b[1;33m,\u001b[0m \u001b[0mtarget_mask\u001b[0m\u001b[1;33m)\u001b[0m\u001b[1;33m\u001b[0m\u001b[1;33m\u001b[0m\u001b[0m\n\u001b[0m\u001b[0;32m     10\u001b[0m \u001b[0mprint\u001b[0m\u001b[1;33m(\u001b[0m\u001b[1;34m'mydata.shape'\u001b[0m\u001b[1;33m,\u001b[0m \u001b[0mmydata\u001b[0m\u001b[1;33m.\u001b[0m\u001b[0mshape\u001b[0m\u001b[1;33m)\u001b[0m\u001b[1;33m\u001b[0m\u001b[1;33m\u001b[0m\u001b[0m\n",
      "\u001b[1;32mE:\\Anaconda\\lib\\site-packages\\torch\\nn\\modules\\module.py\u001b[0m in \u001b[0;36m_call_impl\u001b[1;34m(self, *input, **kwargs)\u001b[0m\n\u001b[0;32m   1049\u001b[0m         if not (self._backward_hooks or self._forward_hooks or self._forward_pre_hooks or _global_backward_hooks\n\u001b[0;32m   1050\u001b[0m                 or _global_forward_hooks or _global_forward_pre_hooks):\n\u001b[1;32m-> 1051\u001b[1;33m             \u001b[1;32mreturn\u001b[0m \u001b[0mforward_call\u001b[0m\u001b[1;33m(\u001b[0m\u001b[1;33m*\u001b[0m\u001b[0minput\u001b[0m\u001b[1;33m,\u001b[0m \u001b[1;33m**\u001b[0m\u001b[0mkwargs\u001b[0m\u001b[1;33m)\u001b[0m\u001b[1;33m\u001b[0m\u001b[1;33m\u001b[0m\u001b[0m\n\u001b[0m\u001b[0;32m   1052\u001b[0m         \u001b[1;31m# Do not call functions when jit is used\u001b[0m\u001b[1;33m\u001b[0m\u001b[1;33m\u001b[0m\u001b[1;33m\u001b[0m\u001b[0m\n\u001b[0;32m   1053\u001b[0m         \u001b[0mfull_backward_hooks\u001b[0m\u001b[1;33m,\u001b[0m \u001b[0mnon_full_backward_hooks\u001b[0m \u001b[1;33m=\u001b[0m \u001b[1;33m[\u001b[0m\u001b[1;33m]\u001b[0m\u001b[1;33m,\u001b[0m \u001b[1;33m[\u001b[0m\u001b[1;33m]\u001b[0m\u001b[1;33m\u001b[0m\u001b[1;33m\u001b[0m\u001b[0m\n",
      "\u001b[1;32m<ipython-input-475-a6cc5c7c125b>\u001b[0m in \u001b[0;36mforward\u001b[1;34m(self, source, target, source_mask, target_mask)\u001b[0m\n\u001b[0;32m     23\u001b[0m         \u001b[0mtarget_mask\u001b[0m\u001b[1;33m:\u001b[0m \u001b[0m目标文本掩码张量\u001b[0m\u001b[1;33m;\u001b[0m\u001b[1;33m\u001b[0m\u001b[1;33m\u001b[0m\u001b[0m\n\u001b[0;32m     24\u001b[0m         \"\"\"\n\u001b[1;32m---> 25\u001b[1;33m         \u001b[1;32mreturn\u001b[0m \u001b[0mself\u001b[0m\u001b[1;33m.\u001b[0m\u001b[0mgenerator\u001b[0m\u001b[1;33m(\u001b[0m\u001b[0mself\u001b[0m\u001b[1;33m.\u001b[0m\u001b[0mdecode\u001b[0m\u001b[1;33m(\u001b[0m\u001b[0mself\u001b[0m\u001b[1;33m.\u001b[0m\u001b[0mencode\u001b[0m\u001b[1;33m(\u001b[0m\u001b[0msource\u001b[0m\u001b[1;33m,\u001b[0m \u001b[0msource_mask\u001b[0m\u001b[1;33m)\u001b[0m\u001b[1;33m,\u001b[0m \u001b[0msource_mask\u001b[0m\u001b[1;33m,\u001b[0m \u001b[0mtarget\u001b[0m\u001b[1;33m,\u001b[0m \u001b[0mtarget_mask\u001b[0m\u001b[1;33m)\u001b[0m\u001b[1;33m)\u001b[0m\u001b[1;33m\u001b[0m\u001b[1;33m\u001b[0m\u001b[0m\n\u001b[0m\u001b[0;32m     26\u001b[0m \u001b[1;33m\u001b[0m\u001b[0m\n\u001b[0;32m     27\u001b[0m     \u001b[1;32mdef\u001b[0m \u001b[0mencode\u001b[0m\u001b[1;33m(\u001b[0m\u001b[0mself\u001b[0m\u001b[1;33m,\u001b[0m \u001b[0msource\u001b[0m\u001b[1;33m,\u001b[0m \u001b[0msource_mask\u001b[0m\u001b[1;33m)\u001b[0m\u001b[1;33m:\u001b[0m\u001b[1;33m\u001b[0m\u001b[1;33m\u001b[0m\u001b[0m\n",
      "\u001b[1;32m<ipython-input-475-a6cc5c7c125b>\u001b[0m in \u001b[0;36mencode\u001b[1;34m(self, source, source_mask)\u001b[0m\n\u001b[0;32m     26\u001b[0m \u001b[1;33m\u001b[0m\u001b[0m\n\u001b[0;32m     27\u001b[0m     \u001b[1;32mdef\u001b[0m \u001b[0mencode\u001b[0m\u001b[1;33m(\u001b[0m\u001b[0mself\u001b[0m\u001b[1;33m,\u001b[0m \u001b[0msource\u001b[0m\u001b[1;33m,\u001b[0m \u001b[0msource_mask\u001b[0m\u001b[1;33m)\u001b[0m\u001b[1;33m:\u001b[0m\u001b[1;33m\u001b[0m\u001b[1;33m\u001b[0m\u001b[0m\n\u001b[1;32m---> 28\u001b[1;33m         \u001b[1;32mreturn\u001b[0m \u001b[0mself\u001b[0m\u001b[1;33m.\u001b[0m\u001b[0mencoder\u001b[0m\u001b[1;33m(\u001b[0m\u001b[0mself\u001b[0m\u001b[1;33m.\u001b[0m\u001b[0msource_embed\u001b[0m\u001b[1;33m(\u001b[0m\u001b[0msource\u001b[0m\u001b[1;33m)\u001b[0m\u001b[1;33m,\u001b[0m \u001b[0msource_mask\u001b[0m\u001b[1;33m)\u001b[0m\u001b[1;33m\u001b[0m\u001b[1;33m\u001b[0m\u001b[0m\n\u001b[0m\u001b[0;32m     29\u001b[0m \u001b[1;33m\u001b[0m\u001b[0m\n\u001b[0;32m     30\u001b[0m     \u001b[1;32mdef\u001b[0m \u001b[0mdecode\u001b[0m\u001b[1;33m(\u001b[0m\u001b[0mself\u001b[0m\u001b[1;33m,\u001b[0m \u001b[0mmemory\u001b[0m\u001b[1;33m,\u001b[0m \u001b[0msource_mask\u001b[0m\u001b[1;33m,\u001b[0m \u001b[0mtarget\u001b[0m\u001b[1;33m,\u001b[0m \u001b[0mtarget_mask\u001b[0m\u001b[1;33m)\u001b[0m\u001b[1;33m:\u001b[0m\u001b[1;33m\u001b[0m\u001b[1;33m\u001b[0m\u001b[0m\n",
      "\u001b[1;32mE:\\Anaconda\\lib\\site-packages\\torch\\nn\\modules\\module.py\u001b[0m in \u001b[0;36m_call_impl\u001b[1;34m(self, *input, **kwargs)\u001b[0m\n\u001b[0;32m   1049\u001b[0m         if not (self._backward_hooks or self._forward_hooks or self._forward_pre_hooks or _global_backward_hooks\n\u001b[0;32m   1050\u001b[0m                 or _global_forward_hooks or _global_forward_pre_hooks):\n\u001b[1;32m-> 1051\u001b[1;33m             \u001b[1;32mreturn\u001b[0m \u001b[0mforward_call\u001b[0m\u001b[1;33m(\u001b[0m\u001b[1;33m*\u001b[0m\u001b[0minput\u001b[0m\u001b[1;33m,\u001b[0m \u001b[1;33m**\u001b[0m\u001b[0mkwargs\u001b[0m\u001b[1;33m)\u001b[0m\u001b[1;33m\u001b[0m\u001b[1;33m\u001b[0m\u001b[0m\n\u001b[0m\u001b[0;32m   1052\u001b[0m         \u001b[1;31m# Do not call functions when jit is used\u001b[0m\u001b[1;33m\u001b[0m\u001b[1;33m\u001b[0m\u001b[1;33m\u001b[0m\u001b[0m\n\u001b[0;32m   1053\u001b[0m         \u001b[0mfull_backward_hooks\u001b[0m\u001b[1;33m,\u001b[0m \u001b[0mnon_full_backward_hooks\u001b[0m \u001b[1;33m=\u001b[0m \u001b[1;33m[\u001b[0m\u001b[1;33m]\u001b[0m\u001b[1;33m,\u001b[0m \u001b[1;33m[\u001b[0m\u001b[1;33m]\u001b[0m\u001b[1;33m\u001b[0m\u001b[1;33m\u001b[0m\u001b[0m\n",
      "\u001b[1;32mE:\\Anaconda\\lib\\site-packages\\torch\\nn\\modules\\container.py\u001b[0m in \u001b[0;36mforward\u001b[1;34m(self, input)\u001b[0m\n\u001b[0;32m    137\u001b[0m     \u001b[1;32mdef\u001b[0m \u001b[0mforward\u001b[0m\u001b[1;33m(\u001b[0m\u001b[0mself\u001b[0m\u001b[1;33m,\u001b[0m \u001b[0minput\u001b[0m\u001b[1;33m)\u001b[0m\u001b[1;33m:\u001b[0m\u001b[1;33m\u001b[0m\u001b[1;33m\u001b[0m\u001b[0m\n\u001b[0;32m    138\u001b[0m         \u001b[1;32mfor\u001b[0m \u001b[0mmodule\u001b[0m \u001b[1;32min\u001b[0m \u001b[0mself\u001b[0m\u001b[1;33m:\u001b[0m\u001b[1;33m\u001b[0m\u001b[1;33m\u001b[0m\u001b[0m\n\u001b[1;32m--> 139\u001b[1;33m             \u001b[0minput\u001b[0m \u001b[1;33m=\u001b[0m \u001b[0mmodule\u001b[0m\u001b[1;33m(\u001b[0m\u001b[0minput\u001b[0m\u001b[1;33m)\u001b[0m\u001b[1;33m\u001b[0m\u001b[1;33m\u001b[0m\u001b[0m\n\u001b[0m\u001b[0;32m    140\u001b[0m         \u001b[1;32mreturn\u001b[0m \u001b[0minput\u001b[0m\u001b[1;33m\u001b[0m\u001b[1;33m\u001b[0m\u001b[0m\n\u001b[0;32m    141\u001b[0m \u001b[1;33m\u001b[0m\u001b[0m\n",
      "\u001b[1;32mE:\\Anaconda\\lib\\site-packages\\torch\\nn\\modules\\module.py\u001b[0m in \u001b[0;36m_call_impl\u001b[1;34m(self, *input, **kwargs)\u001b[0m\n\u001b[0;32m   1049\u001b[0m         if not (self._backward_hooks or self._forward_hooks or self._forward_pre_hooks or _global_backward_hooks\n\u001b[0;32m   1050\u001b[0m                 or _global_forward_hooks or _global_forward_pre_hooks):\n\u001b[1;32m-> 1051\u001b[1;33m             \u001b[1;32mreturn\u001b[0m \u001b[0mforward_call\u001b[0m\u001b[1;33m(\u001b[0m\u001b[1;33m*\u001b[0m\u001b[0minput\u001b[0m\u001b[1;33m,\u001b[0m \u001b[1;33m**\u001b[0m\u001b[0mkwargs\u001b[0m\u001b[1;33m)\u001b[0m\u001b[1;33m\u001b[0m\u001b[1;33m\u001b[0m\u001b[0m\n\u001b[0m\u001b[0;32m   1052\u001b[0m         \u001b[1;31m# Do not call functions when jit is used\u001b[0m\u001b[1;33m\u001b[0m\u001b[1;33m\u001b[0m\u001b[1;33m\u001b[0m\u001b[0m\n\u001b[0;32m   1053\u001b[0m         \u001b[0mfull_backward_hooks\u001b[0m\u001b[1;33m,\u001b[0m \u001b[0mnon_full_backward_hooks\u001b[0m \u001b[1;33m=\u001b[0m \u001b[1;33m[\u001b[0m\u001b[1;33m]\u001b[0m\u001b[1;33m,\u001b[0m \u001b[1;33m[\u001b[0m\u001b[1;33m]\u001b[0m\u001b[1;33m\u001b[0m\u001b[1;33m\u001b[0m\u001b[0m\n",
      "\u001b[1;32m<ipython-input-391-4acc023fa953>\u001b[0m in \u001b[0;36mforward\u001b[1;34m(self, x)\u001b[0m\n\u001b[0;32m     44\u001b[0m         \u001b[1;33m-\u001b[0m \u001b[0m最后使用Variable对其进行封装\u001b[0m\u001b[0;31m，\u001b[0m\u001b[0m使它与x的样式相同\u001b[0m\u001b[0;31m，\u001b[0m\u001b[0m但是它是不需要进行梯度求解的\u001b[0m\u001b[0;31m，\u001b[0m\u001b[0m所以要把requires_grad设置为False\u001b[0m\u001b[1;33m;\u001b[0m\u001b[1;33m\u001b[0m\u001b[1;33m\u001b[0m\u001b[0m\n\u001b[0;32m     45\u001b[0m         \"\"\"\n\u001b[1;32m---> 46\u001b[1;33m         \u001b[0mx\u001b[0m \u001b[1;33m=\u001b[0m \u001b[0mx\u001b[0m \u001b[1;33m+\u001b[0m \u001b[0mVariable\u001b[0m\u001b[1;33m(\u001b[0m\u001b[0mself\u001b[0m\u001b[1;33m.\u001b[0m\u001b[0mpe\u001b[0m\u001b[1;33m[\u001b[0m\u001b[1;33m:\u001b[0m\u001b[1;33m,\u001b[0m \u001b[1;33m:\u001b[0m\u001b[0mx\u001b[0m\u001b[1;33m.\u001b[0m\u001b[0msize\u001b[0m\u001b[1;33m(\u001b[0m\u001b[1;36m1\u001b[0m\u001b[1;33m)\u001b[0m\u001b[1;33m]\u001b[0m\u001b[1;33m,\u001b[0m \u001b[0mrequires_grad\u001b[0m\u001b[1;33m=\u001b[0m\u001b[1;32mFalse\u001b[0m\u001b[1;33m)\u001b[0m\u001b[1;33m\u001b[0m\u001b[1;33m\u001b[0m\u001b[0m\n\u001b[0m\u001b[0;32m     47\u001b[0m         \u001b[1;32mreturn\u001b[0m \u001b[0mself\u001b[0m\u001b[1;33m.\u001b[0m\u001b[0mdropout\u001b[0m\u001b[1;33m(\u001b[0m\u001b[0mx\u001b[0m\u001b[1;33m)\u001b[0m\u001b[1;33m\u001b[0m\u001b[1;33m\u001b[0m\u001b[0m\n",
      "\u001b[1;31mRuntimeError\u001b[0m: The size of tensor a (11) must match the size of tensor b (512) at non-singleton dimension 2"
     ]
    }
   ],
   "source": [
    "# 假设源数据与目标数据相同, 实际中并不相同\n",
    "# 注意：因source_vocab总词汇个数是11， 输入单词编号不能超过11\n",
    "source = target = Variable(torch.LongTensor([[1, 2, 3, 8], \n",
    "                                             [3, 4, 1, 8]]))\n",
    "# 假设src_mask与tgt_mask相同，实际中并不相同\n",
    "source_mask = target_mask = Variable(torch.zeros(8, 4, 4))\n",
    "\n",
    "# 3 源数据张量 目标数据张量 源数据掩码张量 目标数据掩码张量\n",
    "mydata = my_transform_obj(source, target, source_mask, target_mask)\n",
    "print('mydata.shape', mydata.shape)"
   ]
  },
  {
   "cell_type": "code",
   "execution_count": null,
   "id": "f446ea3c-b82a-48cb-aaa7-e2219b97e83f",
   "metadata": {},
   "outputs": [],
   "source": []
  },
  {
   "cell_type": "code",
   "execution_count": null,
   "id": "4db42374-8ec5-4c61-8c27-e08eae95b7b6",
   "metadata": {},
   "outputs": [],
   "source": []
  },
  {
   "cell_type": "code",
   "execution_count": null,
   "id": "c57c4353-0226-40d7-95b8-b4d671d39e40",
   "metadata": {},
   "outputs": [],
   "source": []
  },
  {
   "cell_type": "code",
   "execution_count": null,
   "id": "2af03ccd-50fd-4269-afc6-0e2aab1f707d",
   "metadata": {},
   "outputs": [],
   "source": []
  },
  {
   "cell_type": "code",
   "execution_count": null,
   "id": "4b79ebaf-3cea-49fd-87df-eff9ba40b734",
   "metadata": {},
   "outputs": [],
   "source": []
  }
 ],
 "metadata": {
  "kernelspec": {
   "display_name": "Python 3",
   "language": "python",
   "name": "python3"
  },
  "language_info": {
   "codemirror_mode": {
    "name": "ipython",
    "version": 3
   },
   "file_extension": ".py",
   "mimetype": "text/x-python",
   "name": "python",
   "nbconvert_exporter": "python",
   "pygments_lexer": "ipython3",
   "version": "3.8.8"
  }
 },
 "nbformat": 4,
 "nbformat_minor": 5
}
